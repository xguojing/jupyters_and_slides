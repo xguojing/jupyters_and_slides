{
 "cells": [
  {
   "cell_type": "markdown",
   "metadata": {},
   "source": [
    "## Language Model"
   ]
  },
  {
   "cell_type": "code",
   "execution_count": 2,
   "metadata": {},
   "outputs": [
    {
     "name": "stdout",
     "output_type": "stream",
     "text": [
      "/Users/mqgao/Workspace/Lecture/some-test\r\n"
     ]
    }
   ],
   "source": [
    "!pwd"
   ]
  },
  {
   "cell_type": "code",
   "execution_count": 6,
   "metadata": {},
   "outputs": [],
   "source": [
    "database = '/Users/mqgao/Workspace/Lecture/datasource/sqlResult_1558435.csv'\n"
   ]
  },
  {
   "cell_type": "markdown",
   "metadata": {},
   "source": [
    "#### 源数据的下载地址： ## download https://github.com/Computing-Intelligence/datasource/blob/master/export_sql_1558435.zip"
   ]
  },
  {
   "cell_type": "code",
   "execution_count": 4,
   "metadata": {},
   "outputs": [],
   "source": [
    "import os"
   ]
  },
  {
   "cell_type": "code",
   "execution_count": 5,
   "metadata": {},
   "outputs": [
    {
     "data": {
      "text/plain": [
       "True"
      ]
     },
     "execution_count": 5,
     "metadata": {},
     "output_type": "execute_result"
    }
   ],
   "source": [
    "os.path.exists(database)"
   ]
  },
  {
   "cell_type": "code",
   "execution_count": 7,
   "metadata": {},
   "outputs": [],
   "source": [
    "import pandas as pd"
   ]
  },
  {
   "cell_type": "code",
   "execution_count": 10,
   "metadata": {},
   "outputs": [],
   "source": [
    "dataframe = pd.read_csv(database, encoding='gb18030')"
   ]
  },
  {
   "cell_type": "code",
   "execution_count": 103,
   "metadata": {},
   "outputs": [
    {
     "data": {
      "text/html": [
       "<div>\n",
       "<style scoped>\n",
       "    .dataframe tbody tr th:only-of-type {\n",
       "        vertical-align: middle;\n",
       "    }\n",
       "\n",
       "    .dataframe tbody tr th {\n",
       "        vertical-align: top;\n",
       "    }\n",
       "\n",
       "    .dataframe thead th {\n",
       "        text-align: right;\n",
       "    }\n",
       "</style>\n",
       "<table border=\"1\" class=\"dataframe\">\n",
       "  <thead>\n",
       "    <tr style=\"text-align: right;\">\n",
       "      <th></th>\n",
       "      <th>id</th>\n",
       "      <th>author</th>\n",
       "      <th>source</th>\n",
       "      <th>content</th>\n",
       "      <th>feature</th>\n",
       "      <th>title</th>\n",
       "      <th>url</th>\n",
       "    </tr>\n",
       "  </thead>\n",
       "  <tbody>\n",
       "    <tr>\n",
       "      <th>0</th>\n",
       "      <td>89617</td>\n",
       "      <td>NaN</td>\n",
       "      <td>快科技@http://www.kkj.cn/</td>\n",
       "      <td>此外，自本周（6月12日）起，除小米手机6等15款机型外，其余机型已暂停更新发布（含开发版/...</td>\n",
       "      <td>{\"type\":\"科技\",\"site\":\"cnbeta\",\"commentNum\":\"37\"...</td>\n",
       "      <td>小米MIUI 9首批机型曝光：共计15款</td>\n",
       "      <td>http://www.cnbeta.com/articles/tech/623597.htm</td>\n",
       "    </tr>\n",
       "    <tr>\n",
       "      <th>1</th>\n",
       "      <td>89616</td>\n",
       "      <td>NaN</td>\n",
       "      <td>快科技@http://www.kkj.cn/</td>\n",
       "      <td>骁龙835作为唯一通过Windows 10桌面平台认证的ARM处理器，高通强调，不会因为只考...</td>\n",
       "      <td>{\"type\":\"科技\",\"site\":\"cnbeta\",\"commentNum\":\"15\"...</td>\n",
       "      <td>骁龙835在Windows 10上的性能表现有望改善</td>\n",
       "      <td>http://www.cnbeta.com/articles/tech/623599.htm</td>\n",
       "    </tr>\n",
       "    <tr>\n",
       "      <th>2</th>\n",
       "      <td>89615</td>\n",
       "      <td>NaN</td>\n",
       "      <td>快科技@http://www.kkj.cn/</td>\n",
       "      <td>此前的一加3T搭载的是3400mAh电池，DashCharge快充规格为5V/4A。\\r\\n...</td>\n",
       "      <td>{\"type\":\"科技\",\"site\":\"cnbeta\",\"commentNum\":\"18\"...</td>\n",
       "      <td>一加手机5细节曝光：3300mAh、充半小时用1天</td>\n",
       "      <td>http://www.cnbeta.com/articles/tech/623601.htm</td>\n",
       "    </tr>\n",
       "    <tr>\n",
       "      <th>3</th>\n",
       "      <td>89614</td>\n",
       "      <td>NaN</td>\n",
       "      <td>新华社</td>\n",
       "      <td>这是6月18日在葡萄牙中部大佩德罗冈地区拍摄的被森林大火烧毁的汽车。新华社记者张立云摄\\r\\n</td>\n",
       "      <td>{\"type\":\"国际新闻\",\"site\":\"环球\",\"commentNum\":\"0\",\"j...</td>\n",
       "      <td>葡森林火灾造成至少62人死亡 政府宣布进入紧急状态（组图）</td>\n",
       "      <td>http://world.huanqiu.com/hot/2017-06/10866126....</td>\n",
       "    </tr>\n",
       "    <tr>\n",
       "      <th>4</th>\n",
       "      <td>89613</td>\n",
       "      <td>胡淑丽_MN7479</td>\n",
       "      <td>深圳大件事</td>\n",
       "      <td>（原标题：44岁女子跑深圳约会网友被拒，暴雨中裸身奔走……）\\r\\n@深圳交警微博称：昨日清...</td>\n",
       "      <td>{\"type\":\"新闻\",\"site\":\"网易热门\",\"commentNum\":\"978\",...</td>\n",
       "      <td>44岁女子约网友被拒暴雨中裸奔 交警为其披衣相随</td>\n",
       "      <td>http://news.163.com/17/0618/00/CN617P3Q0001875...</td>\n",
       "    </tr>\n",
       "    <tr>\n",
       "      <th>5</th>\n",
       "      <td>89612</td>\n",
       "      <td>张怡</td>\n",
       "      <td>中国证券报?中证网</td>\n",
       "      <td>受到A股被纳入MSCI指数的利好消息刺激，A股市场从周三开始再度上演龙马行情，周四上午金...</td>\n",
       "      <td>{\"type\":\"市场\",\"site\":\"中证网\",\"commentNum\":\"0\",\"jo...</td>\n",
       "      <td>金融股一枝独秀 配置价值犹存</td>\n",
       "      <td>http://www.cs.com.cn/gppd/201706/t20170623_533...</td>\n",
       "    </tr>\n",
       "    <tr>\n",
       "      <th>6</th>\n",
       "      <td>89611</td>\n",
       "      <td>NaN</td>\n",
       "      <td>威锋网@http://www.feng.com/</td>\n",
       "      <td>虽然至今夏普智能手机在市场上无法排得上号，已经完全没落，并于 2013 年退出中国市场，但是...</td>\n",
       "      <td>{\"type\":\"科技\",\"site\":\"cnbeta\",\"commentNum\":\"21\"...</td>\n",
       "      <td>配骁龙660 全面屏鼻祖夏普新机酝酿中</td>\n",
       "      <td>http://www.cnbeta.com/articles/tech/623603.htm</td>\n",
       "    </tr>\n",
       "    <tr>\n",
       "      <th>7</th>\n",
       "      <td>89610</td>\n",
       "      <td>申玉彬 整理</td>\n",
       "      <td>中国证券报?中证网</td>\n",
       "      <td>沙漠雄鹰：震荡有利消化套牢筹码\\r\\n　　周四开盘上证50在银行券商大蓝筹带动下一度涨近...</td>\n",
       "      <td>{\"type\":\"市场\",\"site\":\"中证网\",\"commentNum\":\"0\",\"jo...</td>\n",
       "      <td>博友早评：震荡有利消化套牢筹码</td>\n",
       "      <td>http://www.cs.com.cn/gppd/201706/t20170623_533...</td>\n",
       "    </tr>\n",
       "    <tr>\n",
       "      <th>8</th>\n",
       "      <td>89609</td>\n",
       "      <td>李杭_BJS4645</td>\n",
       "      <td>荆楚网-楚天都市报</td>\n",
       "      <td>（原标题：武汉警方一下子抓了808人，还都是俊男靓女！原来他们每天偷偷摸摸干这事！）\\r\\n...</td>\n",
       "      <td>{\"type\":\"新闻\",\"site\":\"网易热门\",\"commentNum\":\"1600\"...</td>\n",
       "      <td>武汉千余警察出动 抓获808名俊男靓女全是诈骗犯</td>\n",
       "      <td>http://news.163.com/17/0614/14/CMT9N8G80001899...</td>\n",
       "    </tr>\n",
       "    <tr>\n",
       "      <th>9</th>\n",
       "      <td>89608</td>\n",
       "      <td>吴瞬</td>\n",
       "      <td>中国证券报?中证网</td>\n",
       "      <td>6月21日，A股纳入MSCI指数尘埃落定，但当天被寄予厚望的券商股并未扛起反弹大旗。22...</td>\n",
       "      <td>{\"type\":\"市场\",\"site\":\"中证网\",\"commentNum\":\"0\",\"jo...</td>\n",
       "      <td>纳入MSCI指数 A股长期配置价值提升</td>\n",
       "      <td>http://www.cs.com.cn/gppd/201706/t20170623_533...</td>\n",
       "    </tr>\n",
       "    <tr>\n",
       "      <th>10</th>\n",
       "      <td>89607</td>\n",
       "      <td>NaN</td>\n",
       "      <td>证券时报网</td>\n",
       "      <td>证券时报网（www.stcn.com）06月23日讯\\r\\n　　据上证报道，6月初以来，...</td>\n",
       "      <td>{\"type\":\"市场\",\"site\":\"中证网\",\"commentNum\":\"0\",\"jo...</td>\n",
       "      <td>私募：蓝筹风格难切换 业绩估值相配是王道</td>\n",
       "      <td>http://www.cs.com.cn/gppd/201706/t20170623_533...</td>\n",
       "    </tr>\n",
       "    <tr>\n",
       "      <th>11</th>\n",
       "      <td>89606</td>\n",
       "      <td>NaN</td>\n",
       "      <td>证券时报网</td>\n",
       "      <td>?\\r\\n　　巨丰早评：市场将再次探底\\r\\n　　【巨丰观点】\\r\\n　　周四大盘冲高回落，...</td>\n",
       "      <td>{\"type\":\"市场\",\"site\":\"中证网\",\"commentNum\":\"0\",\"jo...</td>\n",
       "      <td>早间机构看市：市场将再次探底 两类股逢低布局</td>\n",
       "      <td>http://www.cs.com.cn/gppd/201706/t20170623_533...</td>\n",
       "    </tr>\n",
       "    <tr>\n",
       "      <th>12</th>\n",
       "      <td>89605</td>\n",
       "      <td>NaN</td>\n",
       "      <td>中国新闻网</td>\n",
       "      <td>中新网6月19日电 据外媒报道，美国底特律一名男子1976年因为一根头发被定谋杀罪，监禁41...</td>\n",
       "      <td>{\"type\":\"国际新闻\",\"site\":\"环球\",\"commentNum\":\"0\",\"j...</td>\n",
       "      <td>因为犯罪现场的一根头发，他坐冤狱41年后终获释</td>\n",
       "      <td>http://world.huanqiu.com/hot/2017-06/10866136....</td>\n",
       "    </tr>\n",
       "    <tr>\n",
       "      <th>13</th>\n",
       "      <td>89604</td>\n",
       "      <td>申玉彬 整理</td>\n",
       "      <td>中国证券报?中证网</td>\n",
       "      <td>曹先生：风格转换前的阵痛\\r\\n　　今日早盘两地低开，之后一度震荡走高，领涨的仍然是上证...</td>\n",
       "      <td>{\"type\":\"市场\",\"site\":\"中证网\",\"commentNum\":\"0\",\"jo...</td>\n",
       "      <td>博友午评：风格转换前的阵痛</td>\n",
       "      <td>http://www.cs.com.cn/gppd/201706/t20170623_533...</td>\n",
       "    </tr>\n",
       "    <tr>\n",
       "      <th>14</th>\n",
       "      <td>89603</td>\n",
       "      <td>NaN</td>\n",
       "      <td>国际在线</td>\n",
       "      <td>6月21日，MSCI在官网发布公告称，从明年6月起将中国A股纳入MSCI新兴市场指数和MSC...</td>\n",
       "      <td>{\"type\":\"观点滚动\",\"site\":\"参考消息\",\"commentNum\":\"0\",...</td>\n",
       "      <td>MSCI闯关成功会是A股的一针强心剂吗？</td>\n",
       "      <td>http://column.cankaoxiaoxi.com/plgd/2017/0623/...</td>\n",
       "    </tr>\n",
       "    <tr>\n",
       "      <th>15</th>\n",
       "      <td>89602</td>\n",
       "      <td>费天元</td>\n",
       "      <td>中国证券网</td>\n",
       "      <td>中国证券网讯（记者 费天元）沪深两市周五临近午盘出现快速跳水，沪指连续跌穿5日、10日及...</td>\n",
       "      <td>{\"type\":\"市场\",\"site\":\"中证网\",\"commentNum\":\"0\",\"jo...</td>\n",
       "      <td>地产股拉升难阻市场颓势 三大指数早盘集体跳水</td>\n",
       "      <td>http://www.cs.com.cn/gppd/201706/t20170623_533...</td>\n",
       "    </tr>\n",
       "    <tr>\n",
       "      <th>16</th>\n",
       "      <td>89601</td>\n",
       "      <td>NaN</td>\n",
       "      <td>solidot@</td>\n",
       "      <td>九成以上的源包用逐位对应的方式构建，未来版本的 Debian 还将提供验证包的工具和元数据；...</td>\n",
       "      <td>{\"type\":\"软件\",\"site\":\"cnbeta\",\"commentNum\":\"12\"...</td>\n",
       "      <td>Debian 9 Stretch 发布</td>\n",
       "      <td>http://www.cnbeta.com/articles/soft/623605.htm</td>\n",
       "    </tr>\n",
       "    <tr>\n",
       "      <th>17</th>\n",
       "      <td>89600</td>\n",
       "      <td>NaN</td>\n",
       "      <td>新华网</td>\n",
       "      <td>国歌法草案首次提请最高立法机关审议\\r\\n点击图片进入下一页\\r\\n新闻：十二届全国人大常委...</td>\n",
       "      <td>{\"type\":\"观点滚动\",\"site\":\"参考消息\",\"commentNum\":\"0\",...</td>\n",
       "      <td>[及时点]我们不需要“百变老太太”</td>\n",
       "      <td>http://column.cankaoxiaoxi.com/plgd/2017/0623/...</td>\n",
       "    </tr>\n",
       "    <tr>\n",
       "      <th>18</th>\n",
       "      <td>89599</td>\n",
       "      <td>张怡</td>\n",
       "      <td>中国证券报?中证网</td>\n",
       "      <td>中证网讯 （本报记者 张怡）今日，三板做市指数继续低开下行，盘中最低触及1057.91点...</td>\n",
       "      <td>{\"type\":\"市场\",\"site\":\"中证网\",\"commentNum\":\"0\",\"jo...</td>\n",
       "      <td>新三板午评：三板做市指数刷新阶段低点</td>\n",
       "      <td>http://www.cs.com.cn/gppd/201706/t20170623_533...</td>\n",
       "    </tr>\n",
       "    <tr>\n",
       "      <th>19</th>\n",
       "      <td>89598</td>\n",
       "      <td>周佳 整理</td>\n",
       "      <td>中国证券报?中证网</td>\n",
       "      <td>提示声明：\\r\\n　　本文涉及的行业及个股分析来源于券商研究报告，仅为分析人士对该行业及...</td>\n",
       "      <td>{\"type\":\"市场\",\"site\":\"中证网\",\"commentNum\":\"0\",\"jo...</td>\n",
       "      <td>机构解析：下周热点板块及个股探秘（附股）</td>\n",
       "      <td>http://www.cs.com.cn/gppd/hyyj/201706/t2017062...</td>\n",
       "    </tr>\n",
       "    <tr>\n",
       "      <th>20</th>\n",
       "      <td>89597</td>\n",
       "      <td>NaN</td>\n",
       "      <td>泡泡网</td>\n",
       "      <td>原标题：叙利亚被“袭机”事件惹怒俄罗斯 警告将瞄准美战机\\r\\n　　海外网6月19日电 ...</td>\n",
       "      <td>{\"type\":\"军事\",\"site\":\"新浪\",\"commentNum\":\" 95\",\"j...</td>\n",
       "      <td>美军击落叙战机激怒俄罗斯 俄警告将瞄准美军战机</td>\n",
       "      <td>http://mil.news.sina.com.cn/world/2017-06-20/d...</td>\n",
       "    </tr>\n",
       "    <tr>\n",
       "      <th>21</th>\n",
       "      <td>89596</td>\n",
       "      <td>周佳 整理</td>\n",
       "      <td>中国证券报?中证网</td>\n",
       "      <td>提示声明：\\r\\n　　本文涉及的行业及个股分析来源于券商研究报告，仅为分析人士对该行业及...</td>\n",
       "      <td>{\"type\":\"市场\",\"site\":\"中证网\",\"commentNum\":\"0\",\"jo...</td>\n",
       "      <td>机构推荐：下周具备布局潜力金股</td>\n",
       "      <td>http://www.cs.com.cn/gppd/tzpj/201706/t2017062...</td>\n",
       "    </tr>\n",
       "    <tr>\n",
       "      <th>22</th>\n",
       "      <td>89595</td>\n",
       "      <td>NaN</td>\n",
       "      <td>威锋网@http://www.feng.com/</td>\n",
       "      <td>就在这几天，一位微博名为“摩卡 RQ ”的手机、芯片、移动互联网三界知名独立评论人爆料称，O...</td>\n",
       "      <td>{\"type\":\"科技\",\"site\":\"cnbeta\",\"commentNum\":\"56\"...</td>\n",
       "      <td>业内人士解释为什么OPPO供货能力强无敌</td>\n",
       "      <td>http://www.cnbeta.com/articles/tech/623607.htm</td>\n",
       "    </tr>\n",
       "    <tr>\n",
       "      <th>23</th>\n",
       "      <td>89594</td>\n",
       "      <td>张怡</td>\n",
       "      <td>中国证券报?中证网</td>\n",
       "      <td>中证网讯 （本报记者 张怡）与此前两日蓝筹股强势格局不同，周五，A股市场主要指数低开之后...</td>\n",
       "      <td>{\"type\":\"市场\",\"site\":\"中证网\",\"commentNum\":\"0\",\"jo...</td>\n",
       "      <td>中证午评：A股跳水 蓝筹暂歇热点熄火</td>\n",
       "      <td>http://www.cs.com.cn/gppd/201706/t20170623_533...</td>\n",
       "    </tr>\n",
       "    <tr>\n",
       "      <th>24</th>\n",
       "      <td>89593</td>\n",
       "      <td>屠震林 PS040</td>\n",
       "      <td>凤凰体育</td>\n",
       "      <td>北京时间6月20日，江苏苏宁足球俱乐部发布了足协杯第四轮江苏苏宁易购队主场对阵河南建业队的官...</td>\n",
       "      <td>{\"type\":\"体育\",\"site\":\"凤凰\",\"commentNum\":\"1\",\"joi...</td>\n",
       "      <td>“齐心协力”--江苏苏宁发布足协杯对阵河南建业海报</td>\n",
       "      <td>http://sports.ifeng.com/a/20170620/51284188_0....</td>\n",
       "    </tr>\n",
       "    <tr>\n",
       "      <th>25</th>\n",
       "      <td>89592</td>\n",
       "      <td>NaN</td>\n",
       "      <td>新华网</td>\n",
       "      <td>当地时间2017年6月17日，土耳其马尼萨省，在土耳其第1步兵训练大队司令部军营，590名土...</td>\n",
       "      <td>{\"type\":\"国际新闻\",\"site\":\"环球\",\"commentNum\":\"0\",\"j...</td>\n",
       "      <td>土耳其近590名士兵疑食物中毒 被送往医院救治（组图）</td>\n",
       "      <td>http://world.huanqiu.com/hot/2017-06/10866176....</td>\n",
       "    </tr>\n",
       "    <tr>\n",
       "      <th>26</th>\n",
       "      <td>89591</td>\n",
       "      <td>NaN</td>\n",
       "      <td>雷锋网@</td>\n",
       "      <td>今年3月份，王劲从百度自动驾驶事业部任上离职，随后创办景驰科技。在随后的日子里，景驰很快组建...</td>\n",
       "      <td>{\"type\":\"科技\",\"site\":\"cnbeta\",\"commentNum\":\"4\",...</td>\n",
       "      <td>又一自动驾驶公司拿加州路测牌照 这回是王劲的景驰</td>\n",
       "      <td>http://www.cnbeta.com/articles/tech/623609.htm</td>\n",
       "    </tr>\n",
       "    <tr>\n",
       "      <th>27</th>\n",
       "      <td>89590</td>\n",
       "      <td>NaN</td>\n",
       "      <td>新华网</td>\n",
       "      <td>英国与欧盟的“脱欧”谈判于19日正式开始。然而此时，英国首相特雷莎·梅正面临着空前的政治压力...</td>\n",
       "      <td>{\"type\":\"国际新闻\",\"site\":\"环球\",\"commentNum\":\"0\",\"j...</td>\n",
       "      <td>火灾与脱欧炙烤英国首相 特雷莎·梅面临空前政治压力</td>\n",
       "      <td>http://world.huanqiu.com/hot/2017-06/10866198....</td>\n",
       "    </tr>\n",
       "    <tr>\n",
       "      <th>28</th>\n",
       "      <td>89589</td>\n",
       "      <td>NaN</td>\n",
       "      <td>中超球评</td>\n",
       "      <td>中超联赛第13轮比赛已经全部结束，这轮比赛中最让人觉得结果有些出乎意料的，莫过于卡佩罗执教江...</td>\n",
       "      <td>{\"type\":\"体育\",\"site\":\"凤凰\",\"commentNum\":\"0\",\"joi...</td>\n",
       "      <td>江苏保级真悬了 近3年1铁律证明其几乎保级无望</td>\n",
       "      <td>http://sports.ifeng.com/a/20170620/51284719_0....</td>\n",
       "    </tr>\n",
       "    <tr>\n",
       "      <th>29</th>\n",
       "      <td>89588</td>\n",
       "      <td>NaN</td>\n",
       "      <td>中国经济周刊</td>\n",
       "      <td>文章导读： 供应商围堵追债、20多位高管离职、上千人被裁员、孤注一掷史上最大规模的降价…...</td>\n",
       "      <td>{\"type\":\"科技\",\"site\":\"新浪\",\"commentNum\":\" 6\",\"jo...</td>\n",
       "      <td>乐视危局：靠卖资产续命 员工被猎头大规模拉黑</td>\n",
       "      <td>http://tech.sina.com.cn/i/2017-06-20/doc-ifyhf...</td>\n",
       "    </tr>\n",
       "    <tr>\n",
       "      <th>...</th>\n",
       "      <td>...</td>\n",
       "      <td>...</td>\n",
       "      <td>...</td>\n",
       "      <td>...</td>\n",
       "      <td>...</td>\n",
       "      <td>...</td>\n",
       "      <td>...</td>\n",
       "    </tr>\n",
       "    <tr>\n",
       "      <th>89581</th>\n",
       "      <td>30</td>\n",
       "      <td>INACIO ROSA</td>\n",
       "      <td>新华社</td>\n",
       "      <td>新华社照片，外代，2017年6月7日\\n（外代二线）足球——世预赛：葡萄牙备战\\n6月6日，...</td>\n",
       "      <td>{\"type\":\"足球\",\"site\":\"新华社\",\"url\":\"http://home.x...</td>\n",
       "      <td>[2]（外代二线）足球——世预赛：葡萄牙备战</td>\n",
       "      <td>http://home.xinhua-news.com/gdsdetailxhsnew/22...</td>\n",
       "    </tr>\n",
       "    <tr>\n",
       "      <th>89582</th>\n",
       "      <td>29</td>\n",
       "      <td>INACIO ROSA</td>\n",
       "      <td>新华社</td>\n",
       "      <td>新华社照片，外代，2017年6月7日\\n（外代二线）足球——世预赛：葡萄牙备战\\n6月6日，...</td>\n",
       "      <td>{\"type\":\"足球\",\"site\":\"新华社\",\"url\":\"http://home.x...</td>\n",
       "      <td>[3]（外代二线）足球——世预赛：葡萄牙备战</td>\n",
       "      <td>http://home.xinhua-news.com/gdsdetailxhsnew/22...</td>\n",
       "    </tr>\n",
       "    <tr>\n",
       "      <th>89583</th>\n",
       "      <td>28</td>\n",
       "      <td>INACIO ROSA</td>\n",
       "      <td>新华社</td>\n",
       "      <td>新华社照片，外代，2017年6月7日\\n（外代二线）足球——世预赛：葡萄牙备战\\n6月6日，...</td>\n",
       "      <td>{\"type\":\"足球\",\"site\":\"新华社\",\"url\":\"http://home.x...</td>\n",
       "      <td>[4]（外代二线）足球——世预赛：葡萄牙备战</td>\n",
       "      <td>http://home.xinhua-news.com/gdsdetailxhsnew/22...</td>\n",
       "    </tr>\n",
       "    <tr>\n",
       "      <th>89584</th>\n",
       "      <td>27</td>\n",
       "      <td>INACIO ROSA</td>\n",
       "      <td>新华社</td>\n",
       "      <td>新华社照片，外代，2017年6月7日\\n（外代二线）足球——世预赛：葡萄牙备战\\n6月6日，...</td>\n",
       "      <td>{\"type\":\"足球\",\"site\":\"新华社\",\"url\":\"http://home.x...</td>\n",
       "      <td>[5]（外代二线）足球——世预赛：葡萄牙备战</td>\n",
       "      <td>http://home.xinhua-news.com/gdsdetailxhsnew/22...</td>\n",
       "    </tr>\n",
       "    <tr>\n",
       "      <th>89585</th>\n",
       "      <td>26</td>\n",
       "      <td>INACIO ROSA</td>\n",
       "      <td>新华社</td>\n",
       "      <td>新华社照片，外代，2017年6月7日\\n（外代二线）足球——世预赛：葡萄牙备战\\n6月6日，...</td>\n",
       "      <td>{\"type\":\"足球\",\"site\":\"新华社\",\"url\":\"http://home.x...</td>\n",
       "      <td>[6]（外代二线）足球——世预赛：葡萄牙备战</td>\n",
       "      <td>http://home.xinhua-news.com/gdsdetailxhsnew/22...</td>\n",
       "    </tr>\n",
       "    <tr>\n",
       "      <th>89586</th>\n",
       "      <td>25</td>\n",
       "      <td>INACIO ROSA</td>\n",
       "      <td>新华社</td>\n",
       "      <td>新华社照片，外代，2017年6月7日\\n（外代二线）足球——世预赛：葡萄牙备战\\n6月6日，...</td>\n",
       "      <td>{\"type\":\"足球\",\"site\":\"新华社\",\"url\":\"http://home.x...</td>\n",
       "      <td>[7]（外代二线）足球——世预赛：葡萄牙备战</td>\n",
       "      <td>http://home.xinhua-news.com/gdsdetailxhsnew/22...</td>\n",
       "    </tr>\n",
       "    <tr>\n",
       "      <th>89587</th>\n",
       "      <td>24</td>\n",
       "      <td>LOVELY GHOSH</td>\n",
       "      <td>新华社</td>\n",
       "      <td>新华社照片，外代，2017年6月7日\\n（外代二线）蚕丝生产\\n6月6日，在印度特里普拉邦特...</td>\n",
       "      <td>{\"type\":\"其它\",\"site\":\"新华社\",\"url\":\"http://home.x...</td>\n",
       "      <td>[1]（外代二线）蚕丝生产</td>\n",
       "      <td>http://home.xinhua-news.com/gdsdetailxhsnew/22...</td>\n",
       "    </tr>\n",
       "    <tr>\n",
       "      <th>89588</th>\n",
       "      <td>23</td>\n",
       "      <td>LOVELY GHOSH</td>\n",
       "      <td>新华社</td>\n",
       "      <td>新华社照片，外代，2017年6月7日\\n（外代二线）蚕丝生产\\n6月6日，在印度特里普拉邦特...</td>\n",
       "      <td>{\"type\":\"其它\",\"site\":\"新华社\",\"url\":\"http://home.x...</td>\n",
       "      <td>[2]（外代二线）蚕丝生产</td>\n",
       "      <td>http://home.xinhua-news.com/gdsdetailxhsnew/22...</td>\n",
       "    </tr>\n",
       "    <tr>\n",
       "      <th>89589</th>\n",
       "      <td>22</td>\n",
       "      <td>LOVELY GHOSH</td>\n",
       "      <td>新华社</td>\n",
       "      <td>新华社照片，外代，2017年6月7日\\n（外代二线）蚕丝生产\\n5月30日，在印度特里普拉邦...</td>\n",
       "      <td>{\"type\":\"其它\",\"site\":\"新华社\",\"url\":\"http://home.x...</td>\n",
       "      <td>[3]（外代二线）蚕丝生产</td>\n",
       "      <td>http://home.xinhua-news.com/gdsdetailxhsnew/22...</td>\n",
       "    </tr>\n",
       "    <tr>\n",
       "      <th>89590</th>\n",
       "      <td>21</td>\n",
       "      <td>LOVELY GHOSH</td>\n",
       "      <td>新华社</td>\n",
       "      <td>新华社照片，外代，2017年6月7日\\n（外代二线）蚕丝生产\\n6月6日，在印度特里普拉邦特...</td>\n",
       "      <td>{\"type\":\"其它\",\"site\":\"新华社\",\"url\":\"http://home.x...</td>\n",
       "      <td>[4]（外代二线）蚕丝生产</td>\n",
       "      <td>http://home.xinhua-news.com/gdsdetailxhsnew/22...</td>\n",
       "    </tr>\n",
       "    <tr>\n",
       "      <th>89591</th>\n",
       "      <td>20</td>\n",
       "      <td>LOVELY GHOSH</td>\n",
       "      <td>新华社</td>\n",
       "      <td>新华社照片，外代，2017年6月7日\\n（外代二线）蚕丝生产\\n5月30日，在印度特里普拉邦...</td>\n",
       "      <td>{\"type\":\"其它\",\"site\":\"新华社\",\"url\":\"http://home.x...</td>\n",
       "      <td>[5]（外代二线）蚕丝生产</td>\n",
       "      <td>http://home.xinhua-news.com/gdsdetailxhsnew/22...</td>\n",
       "    </tr>\n",
       "    <tr>\n",
       "      <th>89592</th>\n",
       "      <td>19</td>\n",
       "      <td>张旌</td>\n",
       "      <td>新华社</td>\n",
       "      <td>\\n\\n2017年4月27日，在首尔光化门广场，民众在集会上手举反“萨德”标语。（新华社记者...</td>\n",
       "      <td>{\"type\":\"其它\",\"site\":\"新华社\",\"url\":\"http://home.x...</td>\n",
       "      <td>“萨德”环评将重启　在韩部署或推迟一年</td>\n",
       "      <td>http://home.xinhua-news.com/gdsdetailxhsnew/22...</td>\n",
       "    </tr>\n",
       "    <tr>\n",
       "      <th>89593</th>\n",
       "      <td>18</td>\n",
       "      <td>NaN</td>\n",
       "      <td>新华社</td>\n",
       "      <td>\\n新华社巴格达6月6日电（记者魏玉栋　程帅朋）伊拉克西部安巴尔省一处市场6日晚发生自杀式爆...</td>\n",
       "      <td>{\"type\":\"其它\",\"site\":\"新华社\",\"url\":\"http://home.x...</td>\n",
       "      <td>伊拉克安巴尔省发生自杀式袭击７人死亡</td>\n",
       "      <td>http://home.xinhua-news.com/gdsdetailxhsnew/22...</td>\n",
       "    </tr>\n",
       "    <tr>\n",
       "      <th>89594</th>\n",
       "      <td>17</td>\n",
       "      <td>LISELOTTE SABROE</td>\n",
       "      <td>新华社</td>\n",
       "      <td>新华社照片，外代，2017年6月7日\\n（外代二线）足球——国际友谊赛：德国平丹麦\\n6月6...</td>\n",
       "      <td>{\"type\":\"足球\",\"site\":\"新华社\",\"url\":\"http://home.x...</td>\n",
       "      <td>[1]（外代二线）足球——国际友谊赛：德国平丹麦</td>\n",
       "      <td>http://home.xinhua-news.com/gdsdetailxhsnew/22...</td>\n",
       "    </tr>\n",
       "    <tr>\n",
       "      <th>89595</th>\n",
       "      <td>16</td>\n",
       "      <td>LISELOTTE SABROE</td>\n",
       "      <td>新华社</td>\n",
       "      <td>新华社照片，外代，2017年6月7日\\n（外代二线）足球——国际友谊赛：德国平丹麦\\n6月6...</td>\n",
       "      <td>{\"type\":\"足球\",\"site\":\"新华社\",\"url\":\"http://home.x...</td>\n",
       "      <td>[3]（外代二线）足球——国际友谊赛：德国平丹麦</td>\n",
       "      <td>http://home.xinhua-news.com/gdsdetailxhsnew/22...</td>\n",
       "    </tr>\n",
       "    <tr>\n",
       "      <th>89596</th>\n",
       "      <td>15</td>\n",
       "      <td>LISELOTTE SABROE</td>\n",
       "      <td>新华社</td>\n",
       "      <td>新华社照片，外代，2017年6月7日\\n（外代二线）足球——国际友谊赛：德国平丹麦\\n6月6...</td>\n",
       "      <td>{\"type\":\"足球\",\"site\":\"新华社\",\"url\":\"http://home.x...</td>\n",
       "      <td>[2]（外代二线）足球——国际友谊赛：德国平丹麦</td>\n",
       "      <td>http://home.xinhua-news.com/gdsdetailxhsnew/22...</td>\n",
       "    </tr>\n",
       "    <tr>\n",
       "      <th>89597</th>\n",
       "      <td>14</td>\n",
       "      <td>LISELOTTE SABROE</td>\n",
       "      <td>新华社</td>\n",
       "      <td>新华社照片，外代，2017年6月7日\\n（外代二线）足球——国际友谊赛：德国平丹麦\\n6月6...</td>\n",
       "      <td>{\"type\":\"足球\",\"site\":\"新华社\",\"url\":\"http://home.x...</td>\n",
       "      <td>[4]（外代二线）足球——国际友谊赛：德国平丹麦</td>\n",
       "      <td>http://home.xinhua-news.com/gdsdetailxhsnew/22...</td>\n",
       "    </tr>\n",
       "    <tr>\n",
       "      <th>89598</th>\n",
       "      <td>13</td>\n",
       "      <td>LISELOTTE SABROE</td>\n",
       "      <td>新华社</td>\n",
       "      <td>新华社照片，外代，2017年6月7日\\n（外代二线）足球——国际友谊赛：德国平丹麦\\n6月6...</td>\n",
       "      <td>{\"type\":\"足球\",\"site\":\"新华社\",\"url\":\"http://home.x...</td>\n",
       "      <td>[6]（外代二线）足球——国际友谊赛：德国平丹麦</td>\n",
       "      <td>http://home.xinhua-news.com/gdsdetailxhsnew/22...</td>\n",
       "    </tr>\n",
       "    <tr>\n",
       "      <th>89599</th>\n",
       "      <td>12</td>\n",
       "      <td>LISELOTTE SABROE</td>\n",
       "      <td>新华社</td>\n",
       "      <td>新华社照片，外代，2017年6月7日\\n（外代二线）足球——国际友谊赛：德国平丹麦\\n6月6...</td>\n",
       "      <td>{\"type\":\"足球\",\"site\":\"新华社\",\"url\":\"http://home.x...</td>\n",
       "      <td>[5]（外代二线）足球——国际友谊赛：德国平丹麦</td>\n",
       "      <td>http://home.xinhua-news.com/gdsdetailxhsnew/22...</td>\n",
       "    </tr>\n",
       "    <tr>\n",
       "      <th>89600</th>\n",
       "      <td>11</td>\n",
       "      <td>LISELOTTE SABROE</td>\n",
       "      <td>新华社</td>\n",
       "      <td>新华社照片，外代，2017年6月7日\\n（外代二线）足球——国际友谊赛：德国平丹麦\\n6月6...</td>\n",
       "      <td>{\"type\":\"足球\",\"site\":\"新华社\",\"url\":\"http://home.x...</td>\n",
       "      <td>[8]（外代二线）足球——国际友谊赛：德国平丹麦</td>\n",
       "      <td>http://home.xinhua-news.com/gdsdetailxhsnew/22...</td>\n",
       "    </tr>\n",
       "    <tr>\n",
       "      <th>89601</th>\n",
       "      <td>10</td>\n",
       "      <td>LISELOTTE SABROE</td>\n",
       "      <td>新华社</td>\n",
       "      <td>新华社照片，外代，2017年6月7日\\n（外代二线）足球——国际友谊赛：德国平丹麦\\n6月6...</td>\n",
       "      <td>{\"type\":\"足球\",\"site\":\"新华社\",\"url\":\"http://home.x...</td>\n",
       "      <td>[7]（外代二线）足球——国际友谊赛：德国平丹麦</td>\n",
       "      <td>http://home.xinhua-news.com/gdsdetailxhsnew/22...</td>\n",
       "    </tr>\n",
       "    <tr>\n",
       "      <th>89602</th>\n",
       "      <td>9</td>\n",
       "      <td>LISELOTTE SABROE</td>\n",
       "      <td>新华社</td>\n",
       "      <td>新华社照片，外代，2017年6月7日\\n（外代二线）足球——国际友谊赛：德国平丹麦\\n6月6...</td>\n",
       "      <td>{\"type\":\"足球\",\"site\":\"新华社\",\"url\":\"http://home.x...</td>\n",
       "      <td>[9]（外代二线）足球——国际友谊赛：德国平丹麦</td>\n",
       "      <td>http://home.xinhua-news.com/gdsdetailxhsnew/22...</td>\n",
       "    </tr>\n",
       "    <tr>\n",
       "      <th>89603</th>\n",
       "      <td>8</td>\n",
       "      <td>郑焕松</td>\n",
       "      <td>新华社</td>\n",
       "      <td>新华社照片，北京，2017年6月7日\\n电影《血战湘江》举行清华大学巡映活动\\n6月6日，电...</td>\n",
       "      <td>{\"type\":\"社会\",\"site\":\"新华社\",\"url\":\"http://home.x...</td>\n",
       "      <td>（文化）（1）电影《血战湘江》举行清华大学巡映活动</td>\n",
       "      <td>http://home.xinhua-news.com/gdsdetailxhsnew/22...</td>\n",
       "    </tr>\n",
       "    <tr>\n",
       "      <th>89604</th>\n",
       "      <td>7</td>\n",
       "      <td>郑焕松</td>\n",
       "      <td>新华社</td>\n",
       "      <td>新华社照片，北京，2017年6月7日\\n电影《血战湘江》举行清华大学巡映活动\\n6月6日，清...</td>\n",
       "      <td>{\"type\":\"社会\",\"site\":\"新华社\",\"url\":\"http://home.x...</td>\n",
       "      <td>（文化）（2）电影《血战湘江》举行清华大学巡映活动</td>\n",
       "      <td>http://home.xinhua-news.com/gdsdetailxhsnew/22...</td>\n",
       "    </tr>\n",
       "    <tr>\n",
       "      <th>89605</th>\n",
       "      <td>6</td>\n",
       "      <td>郑焕松</td>\n",
       "      <td>新华社</td>\n",
       "      <td>新华社照片，北京，2017年6月7日\\n电影《血战湘江》举行清华大学巡映活动\\n6月6日，电...</td>\n",
       "      <td>{\"type\":\"社会\",\"site\":\"新华社\",\"url\":\"http://home.x...</td>\n",
       "      <td>（文化）（3）电影《血战湘江》举行清华大学巡映活动</td>\n",
       "      <td>http://home.xinhua-news.com/gdsdetailxhsnew/22...</td>\n",
       "    </tr>\n",
       "    <tr>\n",
       "      <th>89606</th>\n",
       "      <td>5</td>\n",
       "      <td>邹峥</td>\n",
       "      <td>新华社</td>\n",
       "      <td>新华社照片，多伦多，2017年6月7日\\n（体育）（2）冰球——国家女子冰球队海外选秀在多伦...</td>\n",
       "      <td>{\"type\":\"冰球\",\"site\":\"新华社\",\"url\":\"http://home.x...</td>\n",
       "      <td>（体育）（2）冰球——国家女子冰球队海外选秀在多伦多展开</td>\n",
       "      <td>http://home.xinhua-news.com/gdsdetailxhsnew/22...</td>\n",
       "    </tr>\n",
       "    <tr>\n",
       "      <th>89607</th>\n",
       "      <td>4</td>\n",
       "      <td>王衡</td>\n",
       "      <td>新华社</td>\n",
       "      <td>新华社兰州6月3日电（王衡、徐丹）记者从甘肃省交通运输厅获悉，甘肃近日集中开建高速公路、普通...</td>\n",
       "      <td>{\"type\":\"宏观经济\",\"site\":\"新华社\",\"url\":\"http://home...</td>\n",
       "      <td>（经济）甘肃集中开工35个重点交通建设项目</td>\n",
       "      <td>http://home.xinhua-news.com/gdsdetailxhsnew/22...</td>\n",
       "    </tr>\n",
       "    <tr>\n",
       "      <th>89608</th>\n",
       "      <td>3</td>\n",
       "      <td>张旌</td>\n",
       "      <td>新华社</td>\n",
       "      <td>\\n\\n2017年5月29日，在法国巴黎郊外的凡尔赛宫，法国总统马克龙出席新闻发布会。（新华...</td>\n",
       "      <td>{\"type\":\"其它\",\"site\":\"新华社\",\"url\":\"http://home.x...</td>\n",
       "      <td>法国议会选举　马克龙有望获“压倒性胜利”</td>\n",
       "      <td>http://home.xinhua-news.com/gdsdetailxhsnew/22...</td>\n",
       "    </tr>\n",
       "    <tr>\n",
       "      <th>89609</th>\n",
       "      <td>2</td>\n",
       "      <td>夏文辉</td>\n",
       "      <td>新华社</td>\n",
       "      <td>\\n\\n2017年5月25日，在美国马萨诸塞州剑桥市，哈佛大学毕业生在毕业典礼上欢呼。（新华...</td>\n",
       "      <td>{\"type\":\"其它\",\"site\":\"新华社\",\"url\":\"http://home.x...</td>\n",
       "      <td>哈佛大学为何取消这些新生入选资格？</td>\n",
       "      <td>http://home.xinhua-news.com/gdsdetailxhsnew/22...</td>\n",
       "    </tr>\n",
       "    <tr>\n",
       "      <th>89610</th>\n",
       "      <td>1</td>\n",
       "      <td>王子江 张寒</td>\n",
       "      <td>新华社</td>\n",
       "      <td>新华社德国杜塞尔多夫６月６日电题：乒乓女球迷　\\n　　新华社记者王子江、张寒\\n　　熊老...</td>\n",
       "      <td>{\"type\":\"体育\",\"site\":\"新华社\",\"url\":\"http://home.x...</td>\n",
       "      <td>（体育）题：乒乓女球迷</td>\n",
       "      <td>http://home.xinhua-news.com/gdsdetailxhsnew/22...</td>\n",
       "    </tr>\n",
       "  </tbody>\n",
       "</table>\n",
       "<p>89611 rows × 7 columns</p>\n",
       "</div>"
      ],
      "text/plain": [
       "          id            author                    source  \\\n",
       "0      89617               NaN    快科技@http://www.kkj.cn/   \n",
       "1      89616               NaN    快科技@http://www.kkj.cn/   \n",
       "2      89615               NaN    快科技@http://www.kkj.cn/   \n",
       "3      89614               NaN                       新华社   \n",
       "4      89613        胡淑丽_MN7479                     深圳大件事   \n",
       "5      89612                张怡                 中国证券报?中证网   \n",
       "6      89611               NaN  威锋网@http://www.feng.com/   \n",
       "7      89610            申玉彬 整理                 中国证券报?中证网   \n",
       "8      89609        李杭_BJS4645                 荆楚网-楚天都市报   \n",
       "9      89608                吴瞬                 中国证券报?中证网   \n",
       "10     89607               NaN                     证券时报网   \n",
       "11     89606               NaN                     证券时报网   \n",
       "12     89605               NaN                     中国新闻网   \n",
       "13     89604            申玉彬 整理                 中国证券报?中证网   \n",
       "14     89603               NaN                      国际在线   \n",
       "15     89602               费天元                     中国证券网   \n",
       "16     89601               NaN                  solidot@   \n",
       "17     89600               NaN                       新华网   \n",
       "18     89599                张怡                 中国证券报?中证网   \n",
       "19     89598             周佳 整理                 中国证券报?中证网   \n",
       "20     89597               NaN                       泡泡网   \n",
       "21     89596             周佳 整理                 中国证券报?中证网   \n",
       "22     89595               NaN  威锋网@http://www.feng.com/   \n",
       "23     89594                张怡                 中国证券报?中证网   \n",
       "24     89593         屠震林 PS040                      凤凰体育   \n",
       "25     89592               NaN                       新华网   \n",
       "26     89591               NaN                      雷锋网@   \n",
       "27     89590               NaN                       新华网   \n",
       "28     89589               NaN                      中超球评   \n",
       "29     89588               NaN                    中国经济周刊   \n",
       "...      ...               ...                       ...   \n",
       "89581     30       INACIO ROSA                       新华社   \n",
       "89582     29       INACIO ROSA                       新华社   \n",
       "89583     28       INACIO ROSA                       新华社   \n",
       "89584     27       INACIO ROSA                       新华社   \n",
       "89585     26       INACIO ROSA                       新华社   \n",
       "89586     25       INACIO ROSA                       新华社   \n",
       "89587     24      LOVELY GHOSH                       新华社   \n",
       "89588     23      LOVELY GHOSH                       新华社   \n",
       "89589     22      LOVELY GHOSH                       新华社   \n",
       "89590     21      LOVELY GHOSH                       新华社   \n",
       "89591     20      LOVELY GHOSH                       新华社   \n",
       "89592     19                张旌                       新华社   \n",
       "89593     18               NaN                       新华社   \n",
       "89594     17  LISELOTTE SABROE                       新华社   \n",
       "89595     16  LISELOTTE SABROE                       新华社   \n",
       "89596     15  LISELOTTE SABROE                       新华社   \n",
       "89597     14  LISELOTTE SABROE                       新华社   \n",
       "89598     13  LISELOTTE SABROE                       新华社   \n",
       "89599     12  LISELOTTE SABROE                       新华社   \n",
       "89600     11  LISELOTTE SABROE                       新华社   \n",
       "89601     10  LISELOTTE SABROE                       新华社   \n",
       "89602      9  LISELOTTE SABROE                       新华社   \n",
       "89603      8               郑焕松                       新华社   \n",
       "89604      7               郑焕松                       新华社   \n",
       "89605      6               郑焕松                       新华社   \n",
       "89606      5                邹峥                       新华社   \n",
       "89607      4                王衡                       新华社   \n",
       "89608      3                张旌                       新华社   \n",
       "89609      2               夏文辉                       新华社   \n",
       "89610      1            王子江 张寒                       新华社   \n",
       "\n",
       "                                                 content  \\\n",
       "0      此外，自本周（6月12日）起，除小米手机6等15款机型外，其余机型已暂停更新发布（含开发版/...   \n",
       "1      骁龙835作为唯一通过Windows 10桌面平台认证的ARM处理器，高通强调，不会因为只考...   \n",
       "2      此前的一加3T搭载的是3400mAh电池，DashCharge快充规格为5V/4A。\\r\\n...   \n",
       "3        这是6月18日在葡萄牙中部大佩德罗冈地区拍摄的被森林大火烧毁的汽车。新华社记者张立云摄\\r\\n   \n",
       "4      （原标题：44岁女子跑深圳约会网友被拒，暴雨中裸身奔走……）\\r\\n@深圳交警微博称：昨日清...   \n",
       "5      　　受到A股被纳入MSCI指数的利好消息刺激，A股市场从周三开始再度上演龙马行情，周四上午金...   \n",
       "6      虽然至今夏普智能手机在市场上无法排得上号，已经完全没落，并于 2013 年退出中国市场，但是...   \n",
       "7      　　沙漠雄鹰：震荡有利消化套牢筹码\\r\\n　　周四开盘上证50在银行券商大蓝筹带动下一度涨近...   \n",
       "8      （原标题：武汉警方一下子抓了808人，还都是俊男靓女！原来他们每天偷偷摸摸干这事！）\\r\\n...   \n",
       "9      　　6月21日，A股纳入MSCI指数尘埃落定，但当天被寄予厚望的券商股并未扛起反弹大旗。22...   \n",
       "10     　　证券时报网（www.stcn.com）06月23日讯\\r\\n　　据上证报道，6月初以来，...   \n",
       "11     ?\\r\\n　　巨丰早评：市场将再次探底\\r\\n　　【巨丰观点】\\r\\n　　周四大盘冲高回落，...   \n",
       "12     中新网6月19日电 据外媒报道，美国底特律一名男子1976年因为一根头发被定谋杀罪，监禁41...   \n",
       "13     　　曹先生：风格转换前的阵痛\\r\\n　　今日早盘两地低开，之后一度震荡走高，领涨的仍然是上证...   \n",
       "14     6月21日，MSCI在官网发布公告称，从明年6月起将中国A股纳入MSCI新兴市场指数和MSC...   \n",
       "15     　　中国证券网讯（记者 费天元）沪深两市周五临近午盘出现快速跳水，沪指连续跌穿5日、10日及...   \n",
       "16     九成以上的源包用逐位对应的方式构建，未来版本的 Debian 还将提供验证包的工具和元数据；...   \n",
       "17     国歌法草案首次提请最高立法机关审议\\r\\n点击图片进入下一页\\r\\n新闻：十二届全国人大常委...   \n",
       "18     　　中证网讯 （本报记者 张怡）今日，三板做市指数继续低开下行，盘中最低触及1057.91点...   \n",
       "19     　　提示声明：\\r\\n　　本文涉及的行业及个股分析来源于券商研究报告，仅为分析人士对该行业及...   \n",
       "20     　　原标题：叙利亚被“袭机”事件惹怒俄罗斯 警告将瞄准美战机\\r\\n　　海外网6月19日电 ...   \n",
       "21     　　提示声明：\\r\\n　　本文涉及的行业及个股分析来源于券商研究报告，仅为分析人士对该行业及...   \n",
       "22     就在这几天，一位微博名为“摩卡 RQ ”的手机、芯片、移动互联网三界知名独立评论人爆料称，O...   \n",
       "23     　　中证网讯 （本报记者 张怡）与此前两日蓝筹股强势格局不同，周五，A股市场主要指数低开之后...   \n",
       "24     北京时间6月20日，江苏苏宁足球俱乐部发布了足协杯第四轮江苏苏宁易购队主场对阵河南建业队的官...   \n",
       "25     当地时间2017年6月17日，土耳其马尼萨省，在土耳其第1步兵训练大队司令部军营，590名土...   \n",
       "26     今年3月份，王劲从百度自动驾驶事业部任上离职，随后创办景驰科技。在随后的日子里，景驰很快组建...   \n",
       "27     英国与欧盟的“脱欧”谈判于19日正式开始。然而此时，英国首相特雷莎·梅正面临着空前的政治压力...   \n",
       "28     中超联赛第13轮比赛已经全部结束，这轮比赛中最让人觉得结果有些出乎意料的，莫过于卡佩罗执教江...   \n",
       "29     　　文章导读： 供应商围堵追债、20多位高管离职、上千人被裁员、孤注一掷史上最大规模的降价…...   \n",
       "...                                                  ...   \n",
       "89581  新华社照片，外代，2017年6月7日\\n（外代二线）足球——世预赛：葡萄牙备战\\n6月6日，...   \n",
       "89582  新华社照片，外代，2017年6月7日\\n（外代二线）足球——世预赛：葡萄牙备战\\n6月6日，...   \n",
       "89583  新华社照片，外代，2017年6月7日\\n（外代二线）足球——世预赛：葡萄牙备战\\n6月6日，...   \n",
       "89584  新华社照片，外代，2017年6月7日\\n（外代二线）足球——世预赛：葡萄牙备战\\n6月6日，...   \n",
       "89585  新华社照片，外代，2017年6月7日\\n（外代二线）足球——世预赛：葡萄牙备战\\n6月6日，...   \n",
       "89586  新华社照片，外代，2017年6月7日\\n（外代二线）足球——世预赛：葡萄牙备战\\n6月6日，...   \n",
       "89587  新华社照片，外代，2017年6月7日\\n（外代二线）蚕丝生产\\n6月6日，在印度特里普拉邦特...   \n",
       "89588  新华社照片，外代，2017年6月7日\\n（外代二线）蚕丝生产\\n6月6日，在印度特里普拉邦特...   \n",
       "89589  新华社照片，外代，2017年6月7日\\n（外代二线）蚕丝生产\\n5月30日，在印度特里普拉邦...   \n",
       "89590  新华社照片，外代，2017年6月7日\\n（外代二线）蚕丝生产\\n6月6日，在印度特里普拉邦特...   \n",
       "89591  新华社照片，外代，2017年6月7日\\n（外代二线）蚕丝生产\\n5月30日，在印度特里普拉邦...   \n",
       "89592  \\n\\n2017年4月27日，在首尔光化门广场，民众在集会上手举反“萨德”标语。（新华社记者...   \n",
       "89593  \\n新华社巴格达6月6日电（记者魏玉栋　程帅朋）伊拉克西部安巴尔省一处市场6日晚发生自杀式爆...   \n",
       "89594  新华社照片，外代，2017年6月7日\\n（外代二线）足球——国际友谊赛：德国平丹麦\\n6月6...   \n",
       "89595  新华社照片，外代，2017年6月7日\\n（外代二线）足球——国际友谊赛：德国平丹麦\\n6月6...   \n",
       "89596  新华社照片，外代，2017年6月7日\\n（外代二线）足球——国际友谊赛：德国平丹麦\\n6月6...   \n",
       "89597  新华社照片，外代，2017年6月7日\\n（外代二线）足球——国际友谊赛：德国平丹麦\\n6月6...   \n",
       "89598  新华社照片，外代，2017年6月7日\\n（外代二线）足球——国际友谊赛：德国平丹麦\\n6月6...   \n",
       "89599  新华社照片，外代，2017年6月7日\\n（外代二线）足球——国际友谊赛：德国平丹麦\\n6月6...   \n",
       "89600  新华社照片，外代，2017年6月7日\\n（外代二线）足球——国际友谊赛：德国平丹麦\\n6月6...   \n",
       "89601  新华社照片，外代，2017年6月7日\\n（外代二线）足球——国际友谊赛：德国平丹麦\\n6月6...   \n",
       "89602  新华社照片，外代，2017年6月7日\\n（外代二线）足球——国际友谊赛：德国平丹麦\\n6月6...   \n",
       "89603  新华社照片，北京，2017年6月7日\\n电影《血战湘江》举行清华大学巡映活动\\n6月6日，电...   \n",
       "89604  新华社照片，北京，2017年6月7日\\n电影《血战湘江》举行清华大学巡映活动\\n6月6日，清...   \n",
       "89605  新华社照片，北京，2017年6月7日\\n电影《血战湘江》举行清华大学巡映活动\\n6月6日，电...   \n",
       "89606  新华社照片，多伦多，2017年6月7日\\n（体育）（2）冰球——国家女子冰球队海外选秀在多伦...   \n",
       "89607  新华社兰州6月3日电（王衡、徐丹）记者从甘肃省交通运输厅获悉，甘肃近日集中开建高速公路、普通...   \n",
       "89608  \\n\\n2017年5月29日，在法国巴黎郊外的凡尔赛宫，法国总统马克龙出席新闻发布会。（新华...   \n",
       "89609  \\n\\n2017年5月25日，在美国马萨诸塞州剑桥市，哈佛大学毕业生在毕业典礼上欢呼。（新华...   \n",
       "89610  　　新华社德国杜塞尔多夫６月６日电题：乒乓女球迷　\\n　　新华社记者王子江、张寒\\n　　熊老...   \n",
       "\n",
       "                                                 feature  \\\n",
       "0      {\"type\":\"科技\",\"site\":\"cnbeta\",\"commentNum\":\"37\"...   \n",
       "1      {\"type\":\"科技\",\"site\":\"cnbeta\",\"commentNum\":\"15\"...   \n",
       "2      {\"type\":\"科技\",\"site\":\"cnbeta\",\"commentNum\":\"18\"...   \n",
       "3      {\"type\":\"国际新闻\",\"site\":\"环球\",\"commentNum\":\"0\",\"j...   \n",
       "4      {\"type\":\"新闻\",\"site\":\"网易热门\",\"commentNum\":\"978\",...   \n",
       "5      {\"type\":\"市场\",\"site\":\"中证网\",\"commentNum\":\"0\",\"jo...   \n",
       "6      {\"type\":\"科技\",\"site\":\"cnbeta\",\"commentNum\":\"21\"...   \n",
       "7      {\"type\":\"市场\",\"site\":\"中证网\",\"commentNum\":\"0\",\"jo...   \n",
       "8      {\"type\":\"新闻\",\"site\":\"网易热门\",\"commentNum\":\"1600\"...   \n",
       "9      {\"type\":\"市场\",\"site\":\"中证网\",\"commentNum\":\"0\",\"jo...   \n",
       "10     {\"type\":\"市场\",\"site\":\"中证网\",\"commentNum\":\"0\",\"jo...   \n",
       "11     {\"type\":\"市场\",\"site\":\"中证网\",\"commentNum\":\"0\",\"jo...   \n",
       "12     {\"type\":\"国际新闻\",\"site\":\"环球\",\"commentNum\":\"0\",\"j...   \n",
       "13     {\"type\":\"市场\",\"site\":\"中证网\",\"commentNum\":\"0\",\"jo...   \n",
       "14     {\"type\":\"观点滚动\",\"site\":\"参考消息\",\"commentNum\":\"0\",...   \n",
       "15     {\"type\":\"市场\",\"site\":\"中证网\",\"commentNum\":\"0\",\"jo...   \n",
       "16     {\"type\":\"软件\",\"site\":\"cnbeta\",\"commentNum\":\"12\"...   \n",
       "17     {\"type\":\"观点滚动\",\"site\":\"参考消息\",\"commentNum\":\"0\",...   \n",
       "18     {\"type\":\"市场\",\"site\":\"中证网\",\"commentNum\":\"0\",\"jo...   \n",
       "19     {\"type\":\"市场\",\"site\":\"中证网\",\"commentNum\":\"0\",\"jo...   \n",
       "20     {\"type\":\"军事\",\"site\":\"新浪\",\"commentNum\":\" 95\",\"j...   \n",
       "21     {\"type\":\"市场\",\"site\":\"中证网\",\"commentNum\":\"0\",\"jo...   \n",
       "22     {\"type\":\"科技\",\"site\":\"cnbeta\",\"commentNum\":\"56\"...   \n",
       "23     {\"type\":\"市场\",\"site\":\"中证网\",\"commentNum\":\"0\",\"jo...   \n",
       "24     {\"type\":\"体育\",\"site\":\"凤凰\",\"commentNum\":\"1\",\"joi...   \n",
       "25     {\"type\":\"国际新闻\",\"site\":\"环球\",\"commentNum\":\"0\",\"j...   \n",
       "26     {\"type\":\"科技\",\"site\":\"cnbeta\",\"commentNum\":\"4\",...   \n",
       "27     {\"type\":\"国际新闻\",\"site\":\"环球\",\"commentNum\":\"0\",\"j...   \n",
       "28     {\"type\":\"体育\",\"site\":\"凤凰\",\"commentNum\":\"0\",\"joi...   \n",
       "29     {\"type\":\"科技\",\"site\":\"新浪\",\"commentNum\":\" 6\",\"jo...   \n",
       "...                                                  ...   \n",
       "89581  {\"type\":\"足球\",\"site\":\"新华社\",\"url\":\"http://home.x...   \n",
       "89582  {\"type\":\"足球\",\"site\":\"新华社\",\"url\":\"http://home.x...   \n",
       "89583  {\"type\":\"足球\",\"site\":\"新华社\",\"url\":\"http://home.x...   \n",
       "89584  {\"type\":\"足球\",\"site\":\"新华社\",\"url\":\"http://home.x...   \n",
       "89585  {\"type\":\"足球\",\"site\":\"新华社\",\"url\":\"http://home.x...   \n",
       "89586  {\"type\":\"足球\",\"site\":\"新华社\",\"url\":\"http://home.x...   \n",
       "89587  {\"type\":\"其它\",\"site\":\"新华社\",\"url\":\"http://home.x...   \n",
       "89588  {\"type\":\"其它\",\"site\":\"新华社\",\"url\":\"http://home.x...   \n",
       "89589  {\"type\":\"其它\",\"site\":\"新华社\",\"url\":\"http://home.x...   \n",
       "89590  {\"type\":\"其它\",\"site\":\"新华社\",\"url\":\"http://home.x...   \n",
       "89591  {\"type\":\"其它\",\"site\":\"新华社\",\"url\":\"http://home.x...   \n",
       "89592  {\"type\":\"其它\",\"site\":\"新华社\",\"url\":\"http://home.x...   \n",
       "89593  {\"type\":\"其它\",\"site\":\"新华社\",\"url\":\"http://home.x...   \n",
       "89594  {\"type\":\"足球\",\"site\":\"新华社\",\"url\":\"http://home.x...   \n",
       "89595  {\"type\":\"足球\",\"site\":\"新华社\",\"url\":\"http://home.x...   \n",
       "89596  {\"type\":\"足球\",\"site\":\"新华社\",\"url\":\"http://home.x...   \n",
       "89597  {\"type\":\"足球\",\"site\":\"新华社\",\"url\":\"http://home.x...   \n",
       "89598  {\"type\":\"足球\",\"site\":\"新华社\",\"url\":\"http://home.x...   \n",
       "89599  {\"type\":\"足球\",\"site\":\"新华社\",\"url\":\"http://home.x...   \n",
       "89600  {\"type\":\"足球\",\"site\":\"新华社\",\"url\":\"http://home.x...   \n",
       "89601  {\"type\":\"足球\",\"site\":\"新华社\",\"url\":\"http://home.x...   \n",
       "89602  {\"type\":\"足球\",\"site\":\"新华社\",\"url\":\"http://home.x...   \n",
       "89603  {\"type\":\"社会\",\"site\":\"新华社\",\"url\":\"http://home.x...   \n",
       "89604  {\"type\":\"社会\",\"site\":\"新华社\",\"url\":\"http://home.x...   \n",
       "89605  {\"type\":\"社会\",\"site\":\"新华社\",\"url\":\"http://home.x...   \n",
       "89606  {\"type\":\"冰球\",\"site\":\"新华社\",\"url\":\"http://home.x...   \n",
       "89607  {\"type\":\"宏观经济\",\"site\":\"新华社\",\"url\":\"http://home...   \n",
       "89608  {\"type\":\"其它\",\"site\":\"新华社\",\"url\":\"http://home.x...   \n",
       "89609  {\"type\":\"其它\",\"site\":\"新华社\",\"url\":\"http://home.x...   \n",
       "89610  {\"type\":\"体育\",\"site\":\"新华社\",\"url\":\"http://home.x...   \n",
       "\n",
       "                               title  \\\n",
       "0               小米MIUI 9首批机型曝光：共计15款   \n",
       "1         骁龙835在Windows 10上的性能表现有望改善   \n",
       "2          一加手机5细节曝光：3300mAh、充半小时用1天   \n",
       "3      葡森林火灾造成至少62人死亡 政府宣布进入紧急状态（组图）   \n",
       "4           44岁女子约网友被拒暴雨中裸奔 交警为其披衣相随   \n",
       "5                     金融股一枝独秀 配置价值犹存   \n",
       "6                配骁龙660 全面屏鼻祖夏普新机酝酿中   \n",
       "7                    博友早评：震荡有利消化套牢筹码   \n",
       "8           武汉千余警察出动 抓获808名俊男靓女全是诈骗犯   \n",
       "9                纳入MSCI指数 A股长期配置价值提升   \n",
       "10              私募：蓝筹风格难切换 业绩估值相配是王道   \n",
       "11            早间机构看市：市场将再次探底 两类股逢低布局   \n",
       "12           因为犯罪现场的一根头发，他坐冤狱41年后终获释   \n",
       "13                     博友午评：风格转换前的阵痛   \n",
       "14              MSCI闯关成功会是A股的一针强心剂吗？   \n",
       "15            地产股拉升难阻市场颓势 三大指数早盘集体跳水   \n",
       "16               Debian 9 Stretch 发布   \n",
       "17                 [及时点]我们不需要“百变老太太”   \n",
       "18                新三板午评：三板做市指数刷新阶段低点   \n",
       "19              机构解析：下周热点板块及个股探秘（附股）   \n",
       "20           美军击落叙战机激怒俄罗斯 俄警告将瞄准美军战机   \n",
       "21                   机构推荐：下周具备布局潜力金股   \n",
       "22              业内人士解释为什么OPPO供货能力强无敌   \n",
       "23                中证午评：A股跳水 蓝筹暂歇热点熄火   \n",
       "24         “齐心协力”--江苏苏宁发布足协杯对阵河南建业海报   \n",
       "25       土耳其近590名士兵疑食物中毒 被送往医院救治（组图）   \n",
       "26          又一自动驾驶公司拿加州路测牌照 这回是王劲的景驰   \n",
       "27         火灾与脱欧炙烤英国首相 特雷莎·梅面临空前政治压力   \n",
       "28           江苏保级真悬了 近3年1铁律证明其几乎保级无望   \n",
       "29            乐视危局：靠卖资产续命 员工被猎头大规模拉黑   \n",
       "...                              ...   \n",
       "89581         [2]（外代二线）足球——世预赛：葡萄牙备战   \n",
       "89582         [3]（外代二线）足球——世预赛：葡萄牙备战   \n",
       "89583         [4]（外代二线）足球——世预赛：葡萄牙备战   \n",
       "89584         [5]（外代二线）足球——世预赛：葡萄牙备战   \n",
       "89585         [6]（外代二线）足球——世预赛：葡萄牙备战   \n",
       "89586         [7]（外代二线）足球——世预赛：葡萄牙备战   \n",
       "89587                  [1]（外代二线）蚕丝生产   \n",
       "89588                  [2]（外代二线）蚕丝生产   \n",
       "89589                  [3]（外代二线）蚕丝生产   \n",
       "89590                  [4]（外代二线）蚕丝生产   \n",
       "89591                  [5]（外代二线）蚕丝生产   \n",
       "89592            “萨德”环评将重启　在韩部署或推迟一年   \n",
       "89593             伊拉克安巴尔省发生自杀式袭击７人死亡   \n",
       "89594       [1]（外代二线）足球——国际友谊赛：德国平丹麦   \n",
       "89595       [3]（外代二线）足球——国际友谊赛：德国平丹麦   \n",
       "89596       [2]（外代二线）足球——国际友谊赛：德国平丹麦   \n",
       "89597       [4]（外代二线）足球——国际友谊赛：德国平丹麦   \n",
       "89598       [6]（外代二线）足球——国际友谊赛：德国平丹麦   \n",
       "89599       [5]（外代二线）足球——国际友谊赛：德国平丹麦   \n",
       "89600       [8]（外代二线）足球——国际友谊赛：德国平丹麦   \n",
       "89601       [7]（外代二线）足球——国际友谊赛：德国平丹麦   \n",
       "89602       [9]（外代二线）足球——国际友谊赛：德国平丹麦   \n",
       "89603      （文化）（1）电影《血战湘江》举行清华大学巡映活动   \n",
       "89604      （文化）（2）电影《血战湘江》举行清华大学巡映活动   \n",
       "89605      （文化）（3）电影《血战湘江》举行清华大学巡映活动   \n",
       "89606   （体育）（2）冰球——国家女子冰球队海外选秀在多伦多展开   \n",
       "89607          （经济）甘肃集中开工35个重点交通建设项目   \n",
       "89608           法国议会选举　马克龙有望获“压倒性胜利”   \n",
       "89609              哈佛大学为何取消这些新生入选资格？   \n",
       "89610                   （体育）题：乒乓女球迷　   \n",
       "\n",
       "                                                     url  \n",
       "0         http://www.cnbeta.com/articles/tech/623597.htm  \n",
       "1         http://www.cnbeta.com/articles/tech/623599.htm  \n",
       "2         http://www.cnbeta.com/articles/tech/623601.htm  \n",
       "3      http://world.huanqiu.com/hot/2017-06/10866126....  \n",
       "4      http://news.163.com/17/0618/00/CN617P3Q0001875...  \n",
       "5      http://www.cs.com.cn/gppd/201706/t20170623_533...  \n",
       "6         http://www.cnbeta.com/articles/tech/623603.htm  \n",
       "7      http://www.cs.com.cn/gppd/201706/t20170623_533...  \n",
       "8      http://news.163.com/17/0614/14/CMT9N8G80001899...  \n",
       "9      http://www.cs.com.cn/gppd/201706/t20170623_533...  \n",
       "10     http://www.cs.com.cn/gppd/201706/t20170623_533...  \n",
       "11     http://www.cs.com.cn/gppd/201706/t20170623_533...  \n",
       "12     http://world.huanqiu.com/hot/2017-06/10866136....  \n",
       "13     http://www.cs.com.cn/gppd/201706/t20170623_533...  \n",
       "14     http://column.cankaoxiaoxi.com/plgd/2017/0623/...  \n",
       "15     http://www.cs.com.cn/gppd/201706/t20170623_533...  \n",
       "16        http://www.cnbeta.com/articles/soft/623605.htm  \n",
       "17     http://column.cankaoxiaoxi.com/plgd/2017/0623/...  \n",
       "18     http://www.cs.com.cn/gppd/201706/t20170623_533...  \n",
       "19     http://www.cs.com.cn/gppd/hyyj/201706/t2017062...  \n",
       "20     http://mil.news.sina.com.cn/world/2017-06-20/d...  \n",
       "21     http://www.cs.com.cn/gppd/tzpj/201706/t2017062...  \n",
       "22        http://www.cnbeta.com/articles/tech/623607.htm  \n",
       "23     http://www.cs.com.cn/gppd/201706/t20170623_533...  \n",
       "24     http://sports.ifeng.com/a/20170620/51284188_0....  \n",
       "25     http://world.huanqiu.com/hot/2017-06/10866176....  \n",
       "26        http://www.cnbeta.com/articles/tech/623609.htm  \n",
       "27     http://world.huanqiu.com/hot/2017-06/10866198....  \n",
       "28     http://sports.ifeng.com/a/20170620/51284719_0....  \n",
       "29     http://tech.sina.com.cn/i/2017-06-20/doc-ifyhf...  \n",
       "...                                                  ...  \n",
       "89581  http://home.xinhua-news.com/gdsdetailxhsnew/22...  \n",
       "89582  http://home.xinhua-news.com/gdsdetailxhsnew/22...  \n",
       "89583  http://home.xinhua-news.com/gdsdetailxhsnew/22...  \n",
       "89584  http://home.xinhua-news.com/gdsdetailxhsnew/22...  \n",
       "89585  http://home.xinhua-news.com/gdsdetailxhsnew/22...  \n",
       "89586  http://home.xinhua-news.com/gdsdetailxhsnew/22...  \n",
       "89587  http://home.xinhua-news.com/gdsdetailxhsnew/22...  \n",
       "89588  http://home.xinhua-news.com/gdsdetailxhsnew/22...  \n",
       "89589  http://home.xinhua-news.com/gdsdetailxhsnew/22...  \n",
       "89590  http://home.xinhua-news.com/gdsdetailxhsnew/22...  \n",
       "89591  http://home.xinhua-news.com/gdsdetailxhsnew/22...  \n",
       "89592  http://home.xinhua-news.com/gdsdetailxhsnew/22...  \n",
       "89593  http://home.xinhua-news.com/gdsdetailxhsnew/22...  \n",
       "89594  http://home.xinhua-news.com/gdsdetailxhsnew/22...  \n",
       "89595  http://home.xinhua-news.com/gdsdetailxhsnew/22...  \n",
       "89596  http://home.xinhua-news.com/gdsdetailxhsnew/22...  \n",
       "89597  http://home.xinhua-news.com/gdsdetailxhsnew/22...  \n",
       "89598  http://home.xinhua-news.com/gdsdetailxhsnew/22...  \n",
       "89599  http://home.xinhua-news.com/gdsdetailxhsnew/22...  \n",
       "89600  http://home.xinhua-news.com/gdsdetailxhsnew/22...  \n",
       "89601  http://home.xinhua-news.com/gdsdetailxhsnew/22...  \n",
       "89602  http://home.xinhua-news.com/gdsdetailxhsnew/22...  \n",
       "89603  http://home.xinhua-news.com/gdsdetailxhsnew/22...  \n",
       "89604  http://home.xinhua-news.com/gdsdetailxhsnew/22...  \n",
       "89605  http://home.xinhua-news.com/gdsdetailxhsnew/22...  \n",
       "89606  http://home.xinhua-news.com/gdsdetailxhsnew/22...  \n",
       "89607  http://home.xinhua-news.com/gdsdetailxhsnew/22...  \n",
       "89608  http://home.xinhua-news.com/gdsdetailxhsnew/22...  \n",
       "89609  http://home.xinhua-news.com/gdsdetailxhsnew/22...  \n",
       "89610  http://home.xinhua-news.com/gdsdetailxhsnew/22...  \n",
       "\n",
       "[89611 rows x 7 columns]"
      ]
     },
     "execution_count": 103,
     "metadata": {},
     "output_type": "execute_result"
    }
   ],
   "source": [
    "dataframe"
   ]
  },
  {
   "cell_type": "code",
   "execution_count": 14,
   "metadata": {},
   "outputs": [],
   "source": [
    "all_articles = dataframe['content'].tolist()"
   ]
  },
  {
   "cell_type": "code",
   "execution_count": 15,
   "metadata": {},
   "outputs": [
    {
     "data": {
      "text/plain": [
       "['此外，自本周（6月12日）起，除小米手机6等15款机型外，其余机型已暂停更新发布（含开发版/体验版内测，稳定版暂不受影响），以确保工程师可以集中全部精力进行系统优化工作。有人猜测这也是将精力主要用到MIUI 9的研发之中。\\r\\nMIUI 8去年5月发布，距今已有一年有余，也是时候更新换代了。\\r\\n当然，关于MIUI 9的确切信息，我们还是等待官方消息。\\r\\n',\n",
       " '骁龙835作为唯一通过Windows 10桌面平台认证的ARM处理器，高通强调，不会因为只考虑性能而去屏蔽掉小核心。相反，他们正联手微软，找到一种适合桌面平台的、兼顾性能和功耗的完美方案。\\r\\n报道称，微软已经拿到了一些新的源码，以便Windows 10更好地理解big.little架构。\\r\\n资料显示，骁龙835作为一款集成了CPU、GPU、基带、蓝牙/Wi-Fi的SoC，比传统的Wintel方案可以节省至少30%的PCB空间。\\r\\n按计划，今年Q4，华硕、惠普、联想将首发骁龙835 Win10电脑，预计均是二合一形态的产品。\\r\\n当然，高通骁龙只是个开始，未来也许还能见到三星Exynos、联发科、华为麒麟、小米澎湃等进入Windows 10桌面平台。\\r\\n',\n",
       " '此前的一加3T搭载的是3400mAh电池，DashCharge快充规格为5V/4A。\\r\\n至于电池缩水，可能与刘作虎所说，一加手机5要做市面最轻薄大屏旗舰的设定有关。\\r\\n按照目前掌握的资料，一加手机5拥有5.5寸1080P三星AMOLED显示屏、6G/8GB RAM，64GB/128GB ROM，双1600万摄像头，备货量“惊喜”。\\r\\n根据京东泄露的信息，一加5起售价是xx99元，应该是在2799/2899/2999中的某个。\\r\\n',\n",
       " '这是6月18日在葡萄牙中部大佩德罗冈地区拍摄的被森林大火烧毁的汽车。新华社记者张立云摄\\r\\n',\n",
       " '（原标题：44岁女子跑深圳约会网友被拒，暴雨中裸身奔走……）\\r\\n@深圳交警微博称：昨日清晨交警发现有一女子赤裸上身，行走在南坪快速上，期间还起了轻生年头，一辅警发现后赶紧为其披上黄衣，并一路劝说她。\\r\\n那么事发时\\r\\n到底都发生了些什么呢？\\r\\n南都记者带您一起还原现场\\r\\n南都记者在龙岗大队坂田中队见到了辅警刘青（发现女生的辅警），一位外表高大帅气，说话略带些腼腆的90后青年。\\r\\n刘青介绍，6月16日早上7时36分，他正在环城南路附近值勤，接到中队关于一位女子裸身进入机动车可能有危险的警情，随后骑着小铁骑开始沿路寻找，大概花了十多分钟在南坪大道坂田出口往龙岗方向的逆行辅道上发现该女子。\\r\\n女子身上一丝不挂地逆车流而行，时走时停，时坐时躺，险象环生。刘青停好小铁骑，和另外一名巡防员追了上去，发现女子的情绪很低落，话不多，刘青尝试和女子交流，劝说女子离开，可女子并不愿意接受，继续缓慢地往南坪快速路的主干道上走去。\\r\\n此时路边上已经聚集了很市民围观，为了不刺激女子的情绪，刘青和巡防员一边盯着女子一边驱赶着围观的群众。\\r\\n现场还原\\r\\n从警方提供的一份视频了解到，16日早上7时25分，女子出现在坂雪岗大道与环城南路的监控视频中，此时女子还穿着白色的内裤，正沿着坂雪岗大道往南坪快速的方向缓慢地走着。\\r\\n当时正值上班高峰期，十字路口的车流已经排起了长队。当女子出现时，路上的市民纷纷驻足观望，不少车辆也放慢了速度，但女子并不为市民观望停下脚步，依然缓慢走着。当女子行进到十字路口中间时，一辆大货车挡住了镜头，但是当女子再次出现镜头时，可以发现女子已经没穿内裤了，全身裸露继续朝着南坪快速方向走去。记者发现，视频中女子周围并没有人尾随或者上前劝止的市民。\\r\\n一大清早路上看到这样的情况\\r\\n恐怕大家都没办法淡定\\r\\n面对这一情况\\r\\n刘青表示，“一开始根本不敢看她，心里挺别扭，感觉很尴尬”，但当刘青跟随女子上了南坪快速路主干道时，女子作出了让人意想不到的举动，她突然靠近护栏要从上面跳下去，刘青赶忙冲上去拉住了女子的手，将其控制住并远离护栏。碍于女子没有穿衣服，刘青递上衣服，女子没接受还把衣服扔到排水沟里，继续往前走，没办法刘青只能紧紧拉着她的一只手跟在后面。\\r\\n刘青一路上耐心地开导安慰她，但只听到她不断地重复着一句话“要是你也遭遇我的事，你也会这样的”，期间她还不时试图挣脱刘青的手要冲向护栏往下跳。\\r\\n就这样，我被牵着走了大概十多分钟，天突然下起了大暴雨，雨大的连眼睛都睁不开”刘青继续说着，瞬间他们就被雨透了，但女子依然不愿意接受刘青的帮助，就继续冒着大雨往前走。\\r\\n大概走了有四十分钟吧，女子突然停下来说“我想回家了”，然后女子也接受了刘青递过来的小黄衣，就出现了深圳微博上的照片，女子披着小黄衣，刘青小心翼翼地在旁边走着的场景。从南平快速下来后，刘青和巡防员将女子带到了附近的坂田派出所。\\r\\n那姑娘到底是遭遇了什么样的事情\\r\\n才会说\\r\\n“要是你也遭遇我的事，你也会这样”\\r\\n据警方透露，该女子姓陈，系湖北人，今年44岁，据家属反映其有精神病史。三天前，陈某从老家来深圳约会网友，但约会受挫导致情绪异常，女子遂产生轻生念头。\\r\\n目前\\r\\n陈某已经被送往深圳某精神病医院进行治疗\\r\\n大大君只希望姑娘能早点康复\\r\\n其实真爱的到来并不存在年龄的限制\\r\\n你们说呢？\\r\\n因善良的原因\\r\\n一众网友纷纷为\\r\\n交警暖男点ZAN\\r\\n@弓常yan桦：就想问这个小哥哥有女票吗\\r\\n@原谅我这一辈子浪荡不羁爱萨摩耶：有什么过不去的要轻生嘛？ 想想自己的家人。同时也感谢交警蜀黍\\r\\n@火心聆听心灵：点赞交警\\r\\n@中華云盾：警察……警察就是群众最需时申出援手\\r\\n@Tomchlee：蜀黍帅！\\r\\n@SJ-李赫海i：这个交警很暖有木有！\\r\\n男子迷奸网友拍418个视频 女方从20岁到50岁不等\\r\\n去年6月7号上午，淮安市涟水县公安局刑警大队突然接到了一个奇怪的报警电话，一名女子言语不清，声称自己遭到了侵害。女子、被侵害、言语不清，几个关键词令接到电话的民警瞬间紧张起来。\\r\\n',\n",
       " '\\u3000\\u3000受到A股被纳入MSCI指数的利好消息刺激，A股市场从周三开始再度上演龙马行情，周四上午金融股和白马股表现喜人，但是尾盘跳水之后，仅金融板块仍维系红盘状态。分析人士认为，金融股受益于MSCI纳入A股和低估值而重获资金青睐，但是存量资金博弈格局下，风格交替的震荡格局料延续。流动性改善、经济悲观预期修正等有助于支撑板块继而大盘指数逐步向好。\\r\\n\\u3000\\u3000“一九”再现\\r\\n\\u3000\\u3000周四，A股市场未能延续周三的上行态势，两市成交小幅放量。29个中信一级行业中，收盘仅银行和非银行金融两个行业指数收红，分别上涨1.80%和0.20%。\\r\\n\\u3000\\u3000从二级行业来看，股份制与城商行的涨幅最高，达到2.22%，国有银行上涨0.82%，信托及其他上涨0.64%，保险板块上涨0.34%，证券板块上涨0.06%。\\r\\n\\u3000\\u3000银行板块25只成分股中，共有21只收红。其中，招商银行涨幅最大，上涨6.66%，贵阳银行上涨3.65%，上海银行、华夏银行、浦发银行和兴业银行的涨幅均超过1.50%。非银行金融板块44只成分股中，共17只个股上涨。其中，安信信托、中国太保涨幅居前两名，分别上涨4.57%和3.04%，西水股份、华安证券、中国人寿和新华保险的涨幅也均超过2%。相对而言，券商股多小幅下跌。\\r\\n\\u3000\\u3000近期，对A股市场消息面影响最大的就是MSCI宣布从2018年6月开始将A股纳入MSCI新兴市场指数。而其中，金融股是占比最大的一个群体。国金证券李立峰团队指出，最新方案中包含的222只成分股中，剔除了中等市值、非互联互通可交易的股票以及有停牌限制的标的，由于纳入了很多大市值AH股，A股在MSCI EM中的权重由0.5%上升到了0.73%。其中，金融板块占比最高，达到40.11%，泛消费次之，占比为24.26%，两个板块涵盖了大部分权重股。动态来看，由于加入了很多是指占比高的金融公司，金融板块的权重增加了近一半，其他大部分行业权重都受到了稀释。\\r\\n\\u3000\\u3000尽管A股被纳入MSCI这一利好事件对短期市场情绪有所提振、对中长期海外增量资金预期升温，但短期内，市场量能尚不能有效放大，金融股独乐乐情景也就难以持续。存量博弈格局下，风格交替、指数震荡格局难改变。\\r\\n\\u3000\\u3000光大证券指出，利好并未引起市场太大的热情，两市指数和成交量均较为平淡，但市场风格出现了较大变化，白马股金融股上涨的同时，成长股、题材股全天低迷。这表明市场增量资金依然很少，存量资金在不同板块之间腾挪，这样的跷跷板格局使得指数难有突破。市场中期依旧偏空，短期依旧可能维持震荡格局。\\r\\n',\n",
       " '虽然至今夏普智能手机在市场上无法排得上号，已经完全没落，并于 2013 年退出中国市场，但是今年 3 月份官方突然宣布回归中国，预示着很快就有夏普新机在中国登场了。那么，第一款夏普手机什么时候登陆中国呢？又会是怎么样的手机呢？\\r\\n近日，一款型号为 FS8016 的夏普神秘新机悄然出现在 GeekBench 的跑分库上。从其中相关信息了解到，这款机子并非旗舰定位，所搭载的是高通骁龙 660 处理器，配备有 4GB 的内存。骁龙 660 是高通今年最受瞩目的芯片之一，采用 14 纳米工艺，八个 Kryo 260 核心设计，集成 Adreno 512 GPU 和 X12 LTE 调制解调器。\\r\\n当前市面上只有一款机子采用了骁龙 660 处理器，那就是已经上市销售的 OPPO R11。骁龙 660 尽管并非旗舰芯片，但在多核新能上比去年骁龙 820 强，单核改进也很明显，所以放在今年仍可以让很多手机变成高端机。不过，由于 OPPO 与高通签署了排他性协议，可以独占两三个月时间。\\r\\n考虑到夏普既然开始测试新机了，说明只要等独占时期一过，夏普就能发布骁龙 660 新品了。按照之前被曝光的渲染图了解，夏普的新机核心竞争优势还是全面屏，因为从 2013 年推出全球首款全面屏手机 EDGEST 302SH 至今，夏普手机推出了多达 28 款的全面屏手机。\\r\\n在 5 月份的媒体沟通会上，惠普罗忠生表示：“我敢打赌，12 个月之后，在座的各位手机都会换掉。因为全面屏时代的到来，我们怀揣的手机都将成为传统手机。”\\r\\n',\n",
       " '\\u3000\\u3000沙漠雄鹰：震荡有利消化套牢筹码\\r\\n\\u3000\\u3000周四开盘上证50在银行券商大蓝筹带动下一度涨近2%,沪指也一度站上60日与120日均线。但在“黑天鹅”万达电影暴跌拖累下,沪深股市绝大多数时间分道扬镳，14点后次新股大幅跳水令各大指数全线收绿。存量博弈格局难改,量能久日不见放大下,蓝筹行情并不可持续,短线策略依然是以题材为主，次新股和区域经济概念股调整压力仍然突出，成长股再次大跌，但目前处于底部，低位反复震荡有助于夯实底部。目前市场仍属存量资金博弈，短期蓝筹股上演的指数行情令市场承压，短期利好带动的蓝筹股行情或将告一段落，后期需要题材股接力来维稳指数走向。\\r\\n\\u3000\\u3000今日经财要闻：一、央行上海总部发布“债券通”北向通境外投资者准入备案业务指引。二、我国信用法规和标准研究正在加快推进。三、上海易居房地产研究院发布的《房贷利率与楼市研究报告》显示，近期许多城市的个人住房贷款利率均有不同程度的上涨。四、水污染防治法修正案草案二审 更大力度保护水环境。五、根据中国结算发布的《关于开展存量一人多户休眠工作的通知》，已启动对同一投资者开立的三户以上多开账户的休眠工作。按中国结算的文件要求，自6月23日后的下一交易日（下周一，6月26日）起，被确认为休眠账户的，将在交易系统中止交易。六、李军：“十三五”末上海金融市场交易额或达2000万亿。七、受A股纳入MSCI新兴市场指数，以及中国宏观环境持续稳定的双重因素鼓舞下，富达国际基金经理马磊表示，预计2017年下半年中国股市投资者情绪将有望转好。中国股市未来十年增长将主要由创新驱动。\\r\\n\\u3000\\u3000大盘回顾：周四A股市场出现了早盘冲高，午市后震荡回落，尾盘大幅跳水的走势。从盘面看，沪深300指数盘中创17个月新高，但2000余只个股下跌，市场分化相当明显。至收盘，上证指数报3147.45点，较前一交易日跌8.76点，跌幅为0.28%；深成指报10265.20点，跌101.97点，跌幅为0.98%；创业板指表现最弱，报1798.38点，跌幅达到1.44%。两市个股普跌，仅400余只交易品种上涨。不计算ST股和未股改股，两市涨停个股不足30只。两市共成交4781亿元，较前一交易日大增800多亿元。数据显示,昨日两市共有主力尽流出190.57亿元,较上一日的96.95亿元大增96.27%。两市61个行业板块有57个遭遇主力抛售,虽然券商与银行板块共有近13亿元主力介入,但化工行业与医药制造就分别遭遇14亿元与12.21亿元的主力抛售。而持续低迷的雄安新区的抛售力度更是高达41.69亿元。\\r\\n\\u3000\\u3000技术分析： 昨日临近收盘的半个小时，沪指上演高位跳水，将涨幅全部回吐，失守60日均线，成交量明显放大，留下长长的上影线。尽管跌幅不深，但个股一地鸡毛，沪指自3016点以来，大盘每次回调的相对低点位置都在不断抬升，所以即使大盘冲高乏力后出现回落，指数调整的空间也因被封住而难以出现大跌。总体来说市场震荡分化的格局短期依然难以打破。短线来看， 沪指在盘中攻克60日均线和半年线压力之后，却在当日得而复失，而创业板指则连上方均线压力都无法触及，这样的走势，无疑会对投资者心理产生负面影响。而在技术形态上，在60分钟K线级别已经形成了背离雏形，一旦沪指跌破3117点，就意味着背离成型，如此即可能引发日线级别的下跌。\\r\\n\\u3000\\u3000综合分析：目前指数正处在压力区间，市场脆弱的心态、碎片化的涨停板、主线模糊、热点凌乱、赚钱效应弱等因素都是大盘突破的掣肘因素。而昨日的尾盘跳水，主要有以下原因。首先，长期的二八分化，导致人气低迷。最近一段时间权重股虽然整体走高，但该板块群众基础弱、弹性小制约绝对涨幅，难以形成大面积的赚钱效应。与此同时，现在场内二八轮动非常频繁，今天追进的资金明天就要吃套，打击资金积极性。其次，市场反弹到重要压力区，却仅靠资金拉升指标股来抬升指数。这种没有赚钱效应的拉抬是不可能持久的。昨日招商银行一度大涨7%，但投资者似乎并不买账，跟风盘极少。由于目前A股一直是存量资金博弈的市场，所以，指标股吸引着资金加码，那么，就意味着中小市值品种面临着强大的筹码套现压力。另外，昨日万达股票债券莫名齐跌，午后复星医药盘中突现“闪崩”，令市场踩踏事件出现，短期市场受此影响，再次收复上方半年线的压力大增。\\r\\n\\u3000\\u3000投资建议：近期权重蓝筹一直强于中小创,但上涨始终缺乏有效的量能支持。在存量博弈背景下,后续资金若无法跟上,活跃资金或会转战中小创。短线投资者在降低权重配置时,可加大中小创中盘子小、股性活跃的超跌品种。大盘的纠缠格局依然还在进行中,权重股虽整体走高,但群众基础弱、弹性小,绝对涨幅有所制约。金融板块大涨促使沪指上摸3180点压力位区间,但能否真正有效突破,还需要观察几日。基于周四K线组合形态偏向悲观，因此投资者当前宜先退出观望，等待股指下方获得支撑后再寻机操作。\\r\\n\\u3000\\u3000热点分析：由于粤港澳大湾区论坛期间,腾讯看多人工智能,百度也将于7月5日举办“百度AI开发者大会”,以谷歌、亚马逊为代表的互联网巨头一致看好人工智能未来的发展。产业创新叠加政策扶持,人工智能行业高景气度有望维持。\\r\\n\\u3000\\u3000市场在最近一个月内出现了4次长上影线，之前三次都形成了周线级别调整，加之下周是月末钱荒效应，值得股民做好应对。自6月初以来，市场始终是以中小创为首的反弹模式，个股赚钱效应保持；而随着周三尾盘开始，权重股快速拉升，带来了指数尾盘翻红，周四刷新高点，但与此同时个股赚钱效应却有了明显的降温的，个股涨少跌多，午盘后个股跳水加剧这一现象必须要引起重视。玉名认为这意味着上证50创新高，但并没有带来其余个股的跟随，相反还带来了大部分个股的跳水；而受到政策红利的军工板块和上周“王者荣耀”引发的手游股类似，都是出现了“一日游”的走势，没有延续性的热点，更多地来自于事件刺激和超跌反弹。\\r\\n\\u3000\\u3000市场下周将进入到一个比较敏感的时间段，既是月末、季末，又是半年末，容易出现资金的异动。实际上，从美联储加息和缩表行为来看，已经意味着紧缩货币政策的开启，而这也在全球央行中流行，金融市场很难再现“大水漫灌”式强刺激，中性偏紧的政策和流动性将成为一种“常态”。从基本面来看，玉名认为中国经济仍将是“L”型筑底走势，这是一个阶段，是一段较长的时间，意味着没有高速增长，也没有增速大幅下滑，而是横盘周期，同时以适度偏紧的政策，为供给侧结构性改革提供良好环境。因此，从基本面决定了股市只能处于震荡市周期。\\r\\n\\u3000\\u3000技术上，沪指运行到60日均线附近，在权重股拉升之下有突破之意，不过由于运行到前期肩部区域，压力还是比较大，这种单纯依托权重股，而忽略个股效应的模式能够走多远，还是值得担忧的，这是引发资金派发而形成跳水的关键因素。尤其是个股的赚钱效应越来越差，甚至不排除一些获利盘和解套盘选择了短线的离场，伴随着高位，资金追涨的压力也在增加，谨慎观望气氛增加，导致了成交量的止步不前。玉名认为目前股民需要对于个股做一个梳理了，短线反弹较多的，且近期放量滞涨的，就要有所警惕了，要逐步兑现利润，选择落袋为安，重新等待机会；而对于已经进入前期阻力区或密集套牢区的个股，应该及时考虑减仓，毕竟这样的品种很容易出现再度的调整；对于前期涨幅不大，或者是下跌通道已经扭转的个股，可以暂时持有观望。\\r\\n\\u3000\\u3000昨日回顾：主板终于费尽九牛二虎之力爬到了3180点附近，但是遗憾的是在主板尤其是上证50和沪深300不断地创新高之际，中小创却依然是忍受着无厘头的煎熬，午后市场更是以全线跳水的结局收盘，那么对于这样的市场周五会怎样？\\r\\n\\u3000\\u3000昨日消息面：央行：“债券通”登记托管等实施细则会很快发布实施；发改委：抓紧制定出台配气价格监管规则；人社部：9月底前基本实现跨省异地就医住院费用直接结算；23日成品油将迎年内第六次下调 降幅或达270元/吨；国防科工局：推进军工企业混改 加快军工资产证券化进程；广电总局要求新浪微博等网站关停视听节目；欧美股指延续涨跌不一的走势…消息面上，外围市场整体稳健，国内信息面则继续是不死不活的形式，预计市场继续走整理行情。\\r\\n\\u3000\\u3000技术分析：技术上看，市场昨日走势在午后全线跳水，主板创新高后回落，创业板则是继续在1800点附近做整理，相比于主板则显得较为弱势，技术上看，市场周五将依然不会有大行情，但是二八转换的格局将可能随时出现。\\r\\n\\u3000\\u3000今日大盘下档第一支撑位在3130点，第二支撑位在3100，上档第一压力位在3160点，第二压力位在3180点。\\r\\n\\u3000\\u3000今日走势：欧美股指高位整理，隔夜信息面依然没有什么实质性的利好，今天继续有新股申购，在这样的情况下，预计大盘再度平开或小幅低开可能性大，整体看今天指数出现调整的可能性大，日线继续以小阴、小阳或十字星线为主，随时防止主板可能出现的回调。\\r\\n\\u3000\\u3000今日操作：就昨日市场的走势看，依然是面子行情，更是将中小创再度推到了一个极为尴尬的境地，当然在筑底的过程中很多的不确定因素将会愈发明显，因此建议大家操作继续在短期寻求涨幅不大的个股或者是底部放量的个股，尤其是再加上业绩稳定的个股将是最好，逢低介入，操作上短期建议执行快进快出的策略，远离短期涨幅过大的个股，具体操作坚持大涨卖，大跌买，不涨不跌选择观望的策略。\\r\\n\\u3000\\u3000从昨日市场走势看，又一次证明了彬哥之前所让大家关注的3180点主板可能回调的观点是正确的，而主板也确实在3180点附近出现了回调，对于这样的回调，彬哥认为是一个健康的事情，也是一个必须要出现的事情，现在唯一不能确定的就是在主板回调的时候中小创会不会出现企稳，会不会出现让投资者操作的机会，因此大家今天上午需要至少需要半天的时间去观察市场可能出现的结果，目前行情有一点可以确定的就是主板将会在3180点附近出现调整，因此大家万不可在这个时候再去追涨主板的个股（尤其是以保险银行为首的上证50个股），就周四午后市场的走势看，主板的调整势在必行，因此大家要做好主板调整的心理准备。当然还要做好市场全线调整的心理预期。\\r\\n',\n",
       " '（原标题：武汉警方一下子抓了808人，还都是俊男靓女！原来他们每天偷偷摸摸干这事！）\\r\\n武汉警方一下子抓了808人，还都是俊男靓女！原来他们每天偷偷摸摸干这事！\\r\\n大家还记得今年4月光谷曾发生的一件大事吗？\\r\\n当时微博和朋友圈上都传疯了，\\r\\n说是光谷国际广场大量白领被捕！\\r\\n现场手铐都不够用！\\r\\n结果经记者深入调查后发现，\\r\\n这些被抓的并不是网传的“白领”\\r\\n而是一个有282名涉案人员的诈骗团伙！\\r\\n天呐！接近300人的犯罪团伙，\\r\\n你以为这个数字已经够庞大了吗？\\r\\n错，还有让你更震惊的！！\\r\\n据武汉市公安局通报：\\r\\n6月9日，警方在武汉三镇的10处窝点内，\\r\\n抓获了808名嫌疑人！\\r\\n而且令人大跌眼镜的是，\\r\\n他们当中大多都是年青人，\\r\\n用“俊男靓女”来形容也不为过！\\r\\n年纪不大，外形不差，那么到底是犯了什么事呢？\\r\\n其实说起来，这事估计绝大多数人都碰到过！那就是网络诈骗！\\r\\n涉案电脑800余台、手机2000余部、\\r\\n银行卡3000余张....\\r\\n因为涉及的账户太多，\\r\\n涉案金额目前还没统计出来。\\r\\n这是全国涉案人数最多的一起特大网络诈骗案！\\r\\n这些惊人的数字背后，究竟藏着什么样的秘密？警方把他们一锅端了！\\r\\n今年4月，武汉警方获悉在塔子湖地区有电信网络诈骗活动，经过2个多月的秘密侦查，发现了一个特大网络诈骗犯罪团伙。\\r\\n原来该团伙利用非法互联网金融平台，实施推荐股票、炒期货等诈骗，其10处窝点散布在江岸、洪山、东湖高新、硚口、江汉等5个区的写字楼内，涉案人员多达800余名！\\r\\n6月9日上午，武汉警方组织了1000余名警力，分成14个抓捕组，同时对首脑分子和10处窝点实施了突击抓捕行动！\\r\\n目前，警方已依法刑事拘留411人，对45人取保候审。该案还在进一步调查中。\\r\\n他们是如何进行诈骗的？\\r\\n人数众多的这个诈骗组织是怎么样进行人员分工？又是如何一步步引受害人上钩的呢？\\r\\n2015年以来，该犯罪团伙以投资组建的某集团公司为总部，旗下成立多家分公司、子公司，设立人事部、财务部、行政部等机构部门，分为经理、分析师、业务小组长、业务员等组织层级。\\r\\n在网上发布招聘信息招揽、培训业务员\\r\\n依托虚构的互联网金融平台，通过业务员散布“有内幕消息”等虚假信息，引诱受害人加入专门的QQ群、微信群。\\r\\n再由所谓的“证券公司资深分析师”和“经理”逐个联系受害人，引诱受害人交易股票、期货、贵金属、外汇等金融产品，\\r\\n受害人若获利则按“五五”、“六四”分成，\\r\\n若亏损则拉入“黑名单”不再联系。\\r\\n网友热评\\r\\n李晓猫不吃鱼：在人信汇写字楼面试过一个这种工作，一听不对劲就撤了，说不适合我，我嘴巴笨\\r\\n习惯就好33xxzz：八百多人？可能相当部分人都不大清楚自己到底是啥性质工作吧？\\r\\n刑法守望者：\\r\\n要警惕了，普法：各种工作都要预防法律风险，要做个明白人，不是什么钱都可以拿，尤其是从事金融、保险、银行、财务的人员，不小心就触犯刑法……\\r\\n童颜永在--心理医生：盘在写字楼内的诈骗公司，以高薪招聘业务人员为诱饵，实行诈骗的顽疾，终于被揣掉了。\\r\\n你的渔船：联系一下自己的朋友，看有多少个被抓了\\r\\nThe-former-degrees：\\r\\n招聘平台和销售会上百分之八十就是这种工作。从源头抓起，防止更多人受伤。\\r\\n宇宇家的小仙女：恐怖 进了一个星期发现不太对劲 这尼玛是让我骗人啊 ?赶紧自己跑路了\\r\\nz_路漫漫：\\r\\n我做过， ?后来听说公司跑路了\\r\\n睡不饱怎么办啊小铭大：我都面试过这种工作，，还培训了几天，，话术一看就的套路骗，，果断闪人，，这种公司太多了，，\\r\\n遗忘的金叶子：碰到这样的骗子找我们做视频，最后被我打电话骂了一顿！\\r\\na一元复始c：\\r\\n还有那些天天电话骚扰别人信贷的、卖房的、卖邮票的、发票的社会生活中一不留神就会被坑，所以活着需要理智\\r\\n笑看世间丑2448337651：这是在路上发骗广告搞高利贷的那些互联网金融公司吗？\\r\\n未来温暖的时光属于自己：金融港，街道口都是这些……好多同学刚刚毕业都去做过，都是网上投简历，这些公司就猛联系你，其实好多都不知道这是骗人的吧\\r\\n有强迫症的天蝎座怪咖：吓到我了\\r\\n冉冉的彗星是个宝：早上还接到说做期货\\r\\n霖心金鱼And张蒙：\\r\\n都不敢去找工作了\\r\\n蒋妈妈1\\r\\n5：刚回到武汉，准备找份工作，看网上好多这种招聘的，感觉像骗人的，都不看的\\r\\n看了网友的评论，\\r\\n小编只有一个感觉：\\r\\n找工作时一定要擦亮双眼\\r\\n不要因为一时疏忽，\\r\\n而给自己的生活抹上污点！\\r\\n俗话说，知己知彼百战不殆\\r\\n弄清网络诈骗的常见手法?\\r\\n才能避免上当受骗\\r\\n下面就为大家奉上防骗攻略\\r\\n遇到诈骗只需见招拆招！\\r\\n网络防骗攻略\\r\\n电信网络诈骗犯罪往往表现为“六大陷阱”：\\r\\n1.物美价廉的网购陷阱\\r\\n2.推销产品的便利陷阱\\r\\n3.异性交友的情感陷阱\\r\\n4.中奖信息的惊喜陷阱\\r\\n5.冒充国家工作人员的恐吓陷阱\\r\\n6.钓鱼网站和网上银行的迷惑陷阱\\r\\n下面是网络诈骗中比较常见的几种类型，一起学习如何防范，让骗子无处遁形！\\r\\n1虚假红包诈骗\\r\\n临近节日时，各大电商平台会以派发红包的形式，为促销活动预热。有不法分子趁机在微信朋友圈、微信群等平台中，派发虚假红包，诱骗大家点击，套取个人信息，或传播木马病毒，盗取银行账号。\\r\\n识骗方法：慎点此类红包领取链接，如果不小心点击，应第一时间关闭手机网络，修改网银、支付宝等重要账户密码，并通过安全软件查杀木马病毒。\\r\\n2二维码诈骗\\r\\n抢购高峰期，网页打开慢，网银交易出现比较迟钝现象。有不法分子会冒充客服或店主，以单子出现“调单”“卡单”等说法为幌子，故意说没有收到款项欺诈消费者，取得信任后要求消费者以其他办法进行转账。\\r\\n识骗方法：消费者要注意，调单、卡单、激活订单等多为诈骗术语，见此类词语基本可以断定对方是骗子。没有收到款项这样的问题，是不会在东京、天猫这样的大型网络购物平台出现的。\\r\\n3钓鱼网站诈骗\\r\\n节假日期间，公众的购物热情高涨，假冒正规电商官方网站、在线支付平台等的钓鱼网站活动频繁。消费者在忙于浏览各色商品页面时，往往容易忽略链接的安全性，从而误入诈骗分子发来的虚假钓鱼网站。\\r\\n识骗方法：对陌生人发来的商品链接要提高警惕，谨慎打开。如遇网络诈骗应第一时间向属地公安机关报案，并向举报中心举报。\\r\\n4虚假客服诈骗\\r\\n抢购高峰期，网页打开慢，网银交易出现比较迟钝现象。有不法分子会冒充客服或店主，以单子出现“调单”“卡单”等说法为幌子，故意说没有收到款项欺诈消费者，取得信任后要求消费者以其他办法进行转账。\\r\\n识骗方法：消费者要注意，调单、卡单、激活订单等多为诈骗术语，见此类词语基本可以断定对方是骗子。没有收到款项这样的问题，是不会在东京、天猫这样的大型网络购物平台出现的。\\r\\n5预购诈骗\\r\\n还有不法分子会以“提前购”、“预售”为诱饵向用户发送木马链接。除了网购链接被植入木马、钓鱼网站，还有不法分子会在“预售”活动上做文章，骗取买家“定金”。\\r\\n识骗方法：慎点不明链接，有关购物短信也不要轻信，同时也请给手机装上杀毒软件，提供安全的上网环境。\\r\\n6中奖诈骗\\r\\n购物过后，很多人会陆陆续续收到一些商家的中奖信息，切记不要随意拨打中奖信息提供的电话号码或点击发来的网站链接地址，很可能会让手机或电脑感染上木马病毒。\\r\\n识骗方法：收到中奖信息后留心一下，看一看你所购买的产品中有没有这家的产品，然后最好能在天猫店里直接和卖家联系确认消息。\\r\\n7朋友圈诈骗\\r\\n由于缺少第三方监管平台，不法分子会在朋友圈发布虚假低价购物信息，骗取消费者汇款购买。\\r\\n识骗方法：朋友圈里的销售行为，存在取证难，查处难的问题。因此建议大家在朋友圈买东西时，尽可能选择正规第三方支付平台进行支付，避免直接支付，以确保安全。\\r\\n8快递诈骗\\r\\n不法分子会从非法渠道获得客户信息，制作假的快递单，随后冒充快递员提前联系受骗者，把虚假货品送到消费者手中，骗取钱财。\\r\\n识骗方法：签收包裹前，务必按官方的信息核实对方身份，并确认是否是自己的包裹。在取货之后；一定记得把自己的个人信息从包裹上完全抹去；避免个人信息泄露。\\r\\n9退款诈骗\\r\\n不法分子常以“退款”或“退货”为由假扮网店客服，要求消费者点击其提供的“钓鱼网站”链接，盗取持卡人的银行密码及动态验证码。\\r\\n识骗方法：如果接到网上购物退款的电话或短信等信息，一定要谨慎对待，切莫泄露银行卡账号、户名，动态验证码等个人信息。\\r\\n同时，提醒大家：保护好自己账户信息，遇到情况一定及时报警。\\r\\n武汉破特大网络诈骗案抓808人:以\"内幕消息\"骗人\\r\\n6月12日，武汉市公安局向澎湃新闻通报，该局破获一起特大网络诈骗案。抓获包括卢某、熊某等8名首脑分子在内的涉案人员808名，查扣涉案电脑800余台、手机2000余部、银行卡3000余张。据悉，这是全国打击利用非法互联网金融平台实施诈骗犯罪中，查获涉案人数最多的一起案件。\\r\\n',\n",
       " '\\u3000\\u30006月21日，A股纳入MSCI指数尘埃落定，但当天被寄予厚望的券商股并未扛起反弹大旗。22日，在222只纳入MSCI指数的A股股票中，银行股全线飘红，其中招商银行领涨，涨幅达6.66%。保险股和券商股的表现也可圈可点。在这222只股票中，金融板块的股票数量和总市值占比均位居首位。分析人士指出，银行股股息率高、估值低、收益稳定，对于资金量较大、投资期限较长的资金存在相当大的吸引力。从国际经验来看，纳入MSCI指数后，相关股市的投资者风格将更加稳健，更加偏好业绩稳定、流动性好、风险低的优质蓝筹股。\\r\\n\\u3000\\u3000银行股具估值优势\\r\\n\\u3000\\u30006月22日，A股金融股表现强势，板块涨幅达1.19%。据平安证券统计，在222只纳入MSCI指数的A股股票中，金融板块市值占比达41.32%，其中银行、证券和保险子板块的市值占比分别为27.30%、7.75%和6.24%。\\r\\n\\u3000\\u3000多家券商研究报告认为，银行等金融股受到纳入MSCI指数的提振，未来更多境外资金将进入金融股。\\r\\n\\u3000\\u3000华泰证券表示，在纳入MSCI指数之后，A股将迎来约850亿元人民币的增量资金。其中，考虑到222只股票中，金融股市值占比约42%，并且金融股体量大、流动性强、估值低，符合境外资金偏好，有望迎来超过权重的资金比例。预计金融股有望吸引增量资金约350亿元人民币。\\r\\n\\u3000\\u3000新富资本证券投资中心研究总监廖云龙认为，银行股脱颖而出的主要原因是低估值。市场预期银行股基本面改善，同时市场整体风格偏保守，偏爱低估值。22日银行股的大涨是市场风格的延续，是投资者对龙头股和对低估值的防御性选择。\\r\\n\\u3000\\u3000东方财富choice统计的一季度末QFII重仓股数据显示，银行股是QFII关注的重点之一。在前五十大重仓股中，北京银行、南京银行、宁波银行、上海银行榜上有名。\\r\\n']"
      ]
     },
     "execution_count": 15,
     "metadata": {},
     "output_type": "execute_result"
    }
   ],
   "source": [
    "all_articles[:10]"
   ]
  },
  {
   "cell_type": "code",
   "execution_count": 16,
   "metadata": {},
   "outputs": [],
   "source": [
    "import re"
   ]
  },
  {
   "cell_type": "code",
   "execution_count": 17,
   "metadata": {},
   "outputs": [],
   "source": [
    "def token(string):\n",
    "    return ' '.join(re.findall('[\\w|\\d]+', string))"
   ]
  },
  {
   "cell_type": "code",
   "execution_count": 32,
   "metadata": {},
   "outputs": [],
   "source": [
    "string = '***&& %%## this is a BIGGGGGGGGG thing BI and BIGGGGGGGGGGGGGGGGGGGGGGGGGGGGGGGGGGGGGGGGgg'"
   ]
  },
  {
   "cell_type": "code",
   "execution_count": 101,
   "metadata": {},
   "outputs": [
    {
     "data": {
      "text/plain": [
       "'6月21日 A股纳入MSCI指数尘埃落定 但当天被寄予厚望的券商股并未扛起反弹大旗 22日 在222只纳入MSCI指数的A股股票中 银行股全线飘红 其中招商银行领涨 涨幅达6 66'"
      ]
     },
     "execution_count": 101,
     "metadata": {},
     "output_type": "execute_result"
    }
   ],
   "source": [
    "token('\\u3000\\u30006月21日，A股纳入MSCI指数尘埃落定，但当天被寄予厚望的券商股并未扛起反弹大旗。22日，在222只纳入MSCI指数的A股股票中，银行股全线飘红，其中招商银行领涨，涨幅达6.66%')"
   ]
  },
  {
   "cell_type": "code",
   "execution_count": 104,
   "metadata": {},
   "outputs": [],
   "source": [
    "all_articles = [token(str(a)) for a in all_articles]"
   ]
  },
  {
   "cell_type": "code",
   "execution_count": 106,
   "metadata": {},
   "outputs": [
    {
     "data": {
      "text/plain": [
       "['此外 自本周 6月12日 起 除小米手机6等15款机型外 其余机型已暂停更新发布 含开发版 体验版内测 稳定版暂不受影响 以确保工程师可以集中全部精力进行系统优化工作 有人猜测这也是将精力主要用到MIUI 9的研发之中 MIUI 8去年5月发布 距今已有一年有余 也是时候更新换代了 当然 关于MIUI 9的确切信息 我们还是等待官方消息',\n",
       " '骁龙835作为唯一通过Windows 10桌面平台认证的ARM处理器 高通强调 不会因为只考虑性能而去屏蔽掉小核心 相反 他们正联手微软 找到一种适合桌面平台的 兼顾性能和功耗的完美方案 报道称 微软已经拿到了一些新的源码 以便Windows 10更好地理解big little架构 资料显示 骁龙835作为一款集成了CPU GPU 基带 蓝牙 Wi Fi的SoC 比传统的Wintel方案可以节省至少30 的PCB空间 按计划 今年Q4 华硕 惠普 联想将首发骁龙835 Win10电脑 预计均是二合一形态的产品 当然 高通骁龙只是个开始 未来也许还能见到三星Exynos 联发科 华为麒麟 小米澎湃等进入Windows 10桌面平台',\n",
       " '此前的一加3T搭载的是3400mAh电池 DashCharge快充规格为5V 4A 至于电池缩水 可能与刘作虎所说 一加手机5要做市面最轻薄大屏旗舰的设定有关 按照目前掌握的资料 一加手机5拥有5 5寸1080P三星AMOLED显示屏 6G 8GB RAM 64GB 128GB ROM 双1600万摄像头 备货量 惊喜 根据京东泄露的信息 一加5起售价是xx99元 应该是在2799 2899 2999中的某个',\n",
       " '这是6月18日在葡萄牙中部大佩德罗冈地区拍摄的被森林大火烧毁的汽车 新华社记者张立云摄',\n",
       " '原标题 44岁女子跑深圳约会网友被拒 暴雨中裸身奔走 深圳交警微博称 昨日清晨交警发现有一女子赤裸上身 行走在南坪快速上 期间还起了轻生年头 一辅警发现后赶紧为其披上黄衣 并一路劝说她 那么事发时 到底都发生了些什么呢 南都记者带您一起还原现场 南都记者在龙岗大队坂田中队见到了辅警刘青 发现女生的辅警 一位外表高大帅气 说话略带些腼腆的90后青年 刘青介绍 6月16日早上7时36分 他正在环城南路附近值勤 接到中队关于一位女子裸身进入机动车可能有危险的警情 随后骑着小铁骑开始沿路寻找 大概花了十多分钟在南坪大道坂田出口往龙岗方向的逆行辅道上发现该女子 女子身上一丝不挂地逆车流而行 时走时停 时坐时躺 险象环生 刘青停好小铁骑 和另外一名巡防员追了上去 发现女子的情绪很低落 话不多 刘青尝试和女子交流 劝说女子离开 可女子并不愿意接受 继续缓慢地往南坪快速路的主干道上走去 此时路边上已经聚集了很市民围观 为了不刺激女子的情绪 刘青和巡防员一边盯着女子一边驱赶着围观的群众 现场还原 从警方提供的一份视频了解到 16日早上7时25分 女子出现在坂雪岗大道与环城南路的监控视频中 此时女子还穿着白色的内裤 正沿着坂雪岗大道往南坪快速的方向缓慢地走着 当时正值上班高峰期 十字路口的车流已经排起了长队 当女子出现时 路上的市民纷纷驻足观望 不少车辆也放慢了速度 但女子并不为市民观望停下脚步 依然缓慢走着 当女子行进到十字路口中间时 一辆大货车挡住了镜头 但是当女子再次出现镜头时 可以发现女子已经没穿内裤了 全身裸露继续朝着南坪快速方向走去 记者发现 视频中女子周围并没有人尾随或者上前劝止的市民 一大清早路上看到这样的情况 恐怕大家都没办法淡定 面对这一情况 刘青表示 一开始根本不敢看她 心里挺别扭 感觉很尴尬 但当刘青跟随女子上了南坪快速路主干道时 女子作出了让人意想不到的举动 她突然靠近护栏要从上面跳下去 刘青赶忙冲上去拉住了女子的手 将其控制住并远离护栏 碍于女子没有穿衣服 刘青递上衣服 女子没接受还把衣服扔到排水沟里 继续往前走 没办法刘青只能紧紧拉着她的一只手跟在后面 刘青一路上耐心地开导安慰她 但只听到她不断地重复着一句话 要是你也遭遇我的事 你也会这样的 期间她还不时试图挣脱刘青的手要冲向护栏往下跳 就这样 我被牵着走了大概十多分钟 天突然下起了大暴雨 雨大的连眼睛都睁不开 刘青继续说着 瞬间他们就被雨透了 但女子依然不愿意接受刘青的帮助 就继续冒着大雨往前走 大概走了有四十分钟吧 女子突然停下来说 我想回家了 然后女子也接受了刘青递过来的小黄衣 就出现了深圳微博上的照片 女子披着小黄衣 刘青小心翼翼地在旁边走着的场景 从南平快速下来后 刘青和巡防员将女子带到了附近的坂田派出所 那姑娘到底是遭遇了什么样的事情 才会说 要是你也遭遇我的事 你也会这样 据警方透露 该女子姓陈 系湖北人 今年44岁 据家属反映其有精神病史 三天前 陈某从老家来深圳约会网友 但约会受挫导致情绪异常 女子遂产生轻生念头 目前 陈某已经被送往深圳某精神病医院进行治疗 大大君只希望姑娘能早点康复 其实真爱的到来并不存在年龄的限制 你们说呢 因善良的原因 一众网友纷纷为 交警暖男点ZAN 弓常yan桦 就想问这个小哥哥有女票吗 原谅我这一辈子浪荡不羁爱萨摩耶 有什么过不去的要轻生嘛 想想自己的家人 同时也感谢交警蜀黍 火心聆听心灵 点赞交警 中華云盾 警察 警察就是群众最需时申出援手 Tomchlee 蜀黍帅 SJ 李赫海i 这个交警很暖有木有 男子迷奸网友拍418个视频 女方从20岁到50岁不等 去年6月7号上午 淮安市涟水县公安局刑警大队突然接到了一个奇怪的报警电话 一名女子言语不清 声称自己遭到了侵害 女子 被侵害 言语不清 几个关键词令接到电话的民警瞬间紧张起来',\n",
       " '受到A股被纳入MSCI指数的利好消息刺激 A股市场从周三开始再度上演龙马行情 周四上午金融股和白马股表现喜人 但是尾盘跳水之后 仅金融板块仍维系红盘状态 分析人士认为 金融股受益于MSCI纳入A股和低估值而重获资金青睐 但是存量资金博弈格局下 风格交替的震荡格局料延续 流动性改善 经济悲观预期修正等有助于支撑板块继而大盘指数逐步向好 一九 再现 周四 A股市场未能延续周三的上行态势 两市成交小幅放量 29个中信一级行业中 收盘仅银行和非银行金融两个行业指数收红 分别上涨1 80 和0 20 从二级行业来看 股份制与城商行的涨幅最高 达到2 22 国有银行上涨0 82 信托及其他上涨0 64 保险板块上涨0 34 证券板块上涨0 06 银行板块25只成分股中 共有21只收红 其中 招商银行涨幅最大 上涨6 66 贵阳银行上涨3 65 上海银行 华夏银行 浦发银行和兴业银行的涨幅均超过1 50 非银行金融板块44只成分股中 共17只个股上涨 其中 安信信托 中国太保涨幅居前两名 分别上涨4 57 和3 04 西水股份 华安证券 中国人寿和新华保险的涨幅也均超过2 相对而言 券商股多小幅下跌 近期 对A股市场消息面影响最大的就是MSCI宣布从2018年6月开始将A股纳入MSCI新兴市场指数 而其中 金融股是占比最大的一个群体 国金证券李立峰团队指出 最新方案中包含的222只成分股中 剔除了中等市值 非互联互通可交易的股票以及有停牌限制的标的 由于纳入了很多大市值AH股 A股在MSCI EM中的权重由0 5 上升到了0 73 其中 金融板块占比最高 达到40 11 泛消费次之 占比为24 26 两个板块涵盖了大部分权重股 动态来看 由于加入了很多是指占比高的金融公司 金融板块的权重增加了近一半 其他大部分行业权重都受到了稀释 尽管A股被纳入MSCI这一利好事件对短期市场情绪有所提振 对中长期海外增量资金预期升温 但短期内 市场量能尚不能有效放大 金融股独乐乐情景也就难以持续 存量博弈格局下 风格交替 指数震荡格局难改变 光大证券指出 利好并未引起市场太大的热情 两市指数和成交量均较为平淡 但市场风格出现了较大变化 白马股金融股上涨的同时 成长股 题材股全天低迷 这表明市场增量资金依然很少 存量资金在不同板块之间腾挪 这样的跷跷板格局使得指数难有突破 市场中期依旧偏空 短期依旧可能维持震荡格局',\n",
       " '虽然至今夏普智能手机在市场上无法排得上号 已经完全没落 并于 2013 年退出中国市场 但是今年 3 月份官方突然宣布回归中国 预示着很快就有夏普新机在中国登场了 那么 第一款夏普手机什么时候登陆中国呢 又会是怎么样的手机呢 近日 一款型号为 FS8016 的夏普神秘新机悄然出现在 GeekBench 的跑分库上 从其中相关信息了解到 这款机子并非旗舰定位 所搭载的是高通骁龙 660 处理器 配备有 4GB 的内存 骁龙 660 是高通今年最受瞩目的芯片之一 采用 14 纳米工艺 八个 Kryo 260 核心设计 集成 Adreno 512 GPU 和 X12 LTE 调制解调器 当前市面上只有一款机子采用了骁龙 660 处理器 那就是已经上市销售的 OPPO R11 骁龙 660 尽管并非旗舰芯片 但在多核新能上比去年骁龙 820 强 单核改进也很明显 所以放在今年仍可以让很多手机变成高端机 不过 由于 OPPO 与高通签署了排他性协议 可以独占两三个月时间 考虑到夏普既然开始测试新机了 说明只要等独占时期一过 夏普就能发布骁龙 660 新品了 按照之前被曝光的渲染图了解 夏普的新机核心竞争优势还是全面屏 因为从 2013 年推出全球首款全面屏手机 EDGEST 302SH 至今 夏普手机推出了多达 28 款的全面屏手机 在 5 月份的媒体沟通会上 惠普罗忠生表示 我敢打赌 12 个月之后 在座的各位手机都会换掉 因为全面屏时代的到来 我们怀揣的手机都将成为传统手机',\n",
       " '沙漠雄鹰 震荡有利消化套牢筹码 周四开盘上证50在银行券商大蓝筹带动下一度涨近2 沪指也一度站上60日与120日均线 但在 黑天鹅 万达电影暴跌拖累下 沪深股市绝大多数时间分道扬镳 14点后次新股大幅跳水令各大指数全线收绿 存量博弈格局难改 量能久日不见放大下 蓝筹行情并不可持续 短线策略依然是以题材为主 次新股和区域经济概念股调整压力仍然突出 成长股再次大跌 但目前处于底部 低位反复震荡有助于夯实底部 目前市场仍属存量资金博弈 短期蓝筹股上演的指数行情令市场承压 短期利好带动的蓝筹股行情或将告一段落 后期需要题材股接力来维稳指数走向 今日经财要闻 一 央行上海总部发布 债券通 北向通境外投资者准入备案业务指引 二 我国信用法规和标准研究正在加快推进 三 上海易居房地产研究院发布的 房贷利率与楼市研究报告 显示 近期许多城市的个人住房贷款利率均有不同程度的上涨 四 水污染防治法修正案草案二审 更大力度保护水环境 五 根据中国结算发布的 关于开展存量一人多户休眠工作的通知 已启动对同一投资者开立的三户以上多开账户的休眠工作 按中国结算的文件要求 自6月23日后的下一交易日 下周一 6月26日 起 被确认为休眠账户的 将在交易系统中止交易 六 李军 十三五 末上海金融市场交易额或达2000万亿 七 受A股纳入MSCI新兴市场指数 以及中国宏观环境持续稳定的双重因素鼓舞下 富达国际基金经理马磊表示 预计2017年下半年中国股市投资者情绪将有望转好 中国股市未来十年增长将主要由创新驱动 大盘回顾 周四A股市场出现了早盘冲高 午市后震荡回落 尾盘大幅跳水的走势 从盘面看 沪深300指数盘中创17个月新高 但2000余只个股下跌 市场分化相当明显 至收盘 上证指数报3147 45点 较前一交易日跌8 76点 跌幅为0 28 深成指报10265 20点 跌101 97点 跌幅为0 98 创业板指表现最弱 报1798 38点 跌幅达到1 44 两市个股普跌 仅400余只交易品种上涨 不计算ST股和未股改股 两市涨停个股不足30只 两市共成交4781亿元 较前一交易日大增800多亿元 数据显示 昨日两市共有主力尽流出190 57亿元 较上一日的96 95亿元大增96 27 两市61个行业板块有57个遭遇主力抛售 虽然券商与银行板块共有近13亿元主力介入 但化工行业与医药制造就分别遭遇14亿元与12 21亿元的主力抛售 而持续低迷的雄安新区的抛售力度更是高达41 69亿元 技术分析 昨日临近收盘的半个小时 沪指上演高位跳水 将涨幅全部回吐 失守60日均线 成交量明显放大 留下长长的上影线 尽管跌幅不深 但个股一地鸡毛 沪指自3016点以来 大盘每次回调的相对低点位置都在不断抬升 所以即使大盘冲高乏力后出现回落 指数调整的空间也因被封住而难以出现大跌 总体来说市场震荡分化的格局短期依然难以打破 短线来看 沪指在盘中攻克60日均线和半年线压力之后 却在当日得而复失 而创业板指则连上方均线压力都无法触及 这样的走势 无疑会对投资者心理产生负面影响 而在技术形态上 在60分钟K线级别已经形成了背离雏形 一旦沪指跌破3117点 就意味着背离成型 如此即可能引发日线级别的下跌 综合分析 目前指数正处在压力区间 市场脆弱的心态 碎片化的涨停板 主线模糊 热点凌乱 赚钱效应弱等因素都是大盘突破的掣肘因素 而昨日的尾盘跳水 主要有以下原因 首先 长期的二八分化 导致人气低迷 最近一段时间权重股虽然整体走高 但该板块群众基础弱 弹性小制约绝对涨幅 难以形成大面积的赚钱效应 与此同时 现在场内二八轮动非常频繁 今天追进的资金明天就要吃套 打击资金积极性 其次 市场反弹到重要压力区 却仅靠资金拉升指标股来抬升指数 这种没有赚钱效应的拉抬是不可能持久的 昨日招商银行一度大涨7 但投资者似乎并不买账 跟风盘极少 由于目前A股一直是存量资金博弈的市场 所以 指标股吸引着资金加码 那么 就意味着中小市值品种面临着强大的筹码套现压力 另外 昨日万达股票债券莫名齐跌 午后复星医药盘中突现 闪崩 令市场踩踏事件出现 短期市场受此影响 再次收复上方半年线的压力大增 投资建议 近期权重蓝筹一直强于中小创 但上涨始终缺乏有效的量能支持 在存量博弈背景下 后续资金若无法跟上 活跃资金或会转战中小创 短线投资者在降低权重配置时 可加大中小创中盘子小 股性活跃的超跌品种 大盘的纠缠格局依然还在进行中 权重股虽整体走高 但群众基础弱 弹性小 绝对涨幅有所制约 金融板块大涨促使沪指上摸3180点压力位区间 但能否真正有效突破 还需要观察几日 基于周四K线组合形态偏向悲观 因此投资者当前宜先退出观望 等待股指下方获得支撑后再寻机操作 热点分析 由于粤港澳大湾区论坛期间 腾讯看多人工智能 百度也将于7月5日举办 百度AI开发者大会 以谷歌 亚马逊为代表的互联网巨头一致看好人工智能未来的发展 产业创新叠加政策扶持 人工智能行业高景气度有望维持 市场在最近一个月内出现了4次长上影线 之前三次都形成了周线级别调整 加之下周是月末钱荒效应 值得股民做好应对 自6月初以来 市场始终是以中小创为首的反弹模式 个股赚钱效应保持 而随着周三尾盘开始 权重股快速拉升 带来了指数尾盘翻红 周四刷新高点 但与此同时个股赚钱效应却有了明显的降温的 个股涨少跌多 午盘后个股跳水加剧这一现象必须要引起重视 玉名认为这意味着上证50创新高 但并没有带来其余个股的跟随 相反还带来了大部分个股的跳水 而受到政策红利的军工板块和上周 王者荣耀 引发的手游股类似 都是出现了 一日游 的走势 没有延续性的热点 更多地来自于事件刺激和超跌反弹 市场下周将进入到一个比较敏感的时间段 既是月末 季末 又是半年末 容易出现资金的异动 实际上 从美联储加息和缩表行为来看 已经意味着紧缩货币政策的开启 而这也在全球央行中流行 金融市场很难再现 大水漫灌 式强刺激 中性偏紧的政策和流动性将成为一种 常态 从基本面来看 玉名认为中国经济仍将是 L 型筑底走势 这是一个阶段 是一段较长的时间 意味着没有高速增长 也没有增速大幅下滑 而是横盘周期 同时以适度偏紧的政策 为供给侧结构性改革提供良好环境 因此 从基本面决定了股市只能处于震荡市周期 技术上 沪指运行到60日均线附近 在权重股拉升之下有突破之意 不过由于运行到前期肩部区域 压力还是比较大 这种单纯依托权重股 而忽略个股效应的模式能够走多远 还是值得担忧的 这是引发资金派发而形成跳水的关键因素 尤其是个股的赚钱效应越来越差 甚至不排除一些获利盘和解套盘选择了短线的离场 伴随着高位 资金追涨的压力也在增加 谨慎观望气氛增加 导致了成交量的止步不前 玉名认为目前股民需要对于个股做一个梳理了 短线反弹较多的 且近期放量滞涨的 就要有所警惕了 要逐步兑现利润 选择落袋为安 重新等待机会 而对于已经进入前期阻力区或密集套牢区的个股 应该及时考虑减仓 毕竟这样的品种很容易出现再度的调整 对于前期涨幅不大 或者是下跌通道已经扭转的个股 可以暂时持有观望 昨日回顾 主板终于费尽九牛二虎之力爬到了3180点附近 但是遗憾的是在主板尤其是上证50和沪深300不断地创新高之际 中小创却依然是忍受着无厘头的煎熬 午后市场更是以全线跳水的结局收盘 那么对于这样的市场周五会怎样 昨日消息面 央行 债券通 登记托管等实施细则会很快发布实施 发改委 抓紧制定出台配气价格监管规则 人社部 9月底前基本实现跨省异地就医住院费用直接结算 23日成品油将迎年内第六次下调 降幅或达270元 吨 国防科工局 推进军工企业混改 加快军工资产证券化进程 广电总局要求新浪微博等网站关停视听节目 欧美股指延续涨跌不一的走势 消息面上 外围市场整体稳健 国内信息面则继续是不死不活的形式 预计市场继续走整理行情 技术分析 技术上看 市场昨日走势在午后全线跳水 主板创新高后回落 创业板则是继续在1800点附近做整理 相比于主板则显得较为弱势 技术上看 市场周五将依然不会有大行情 但是二八转换的格局将可能随时出现 今日大盘下档第一支撑位在3130点 第二支撑位在3100 上档第一压力位在3160点 第二压力位在3180点 今日走势 欧美股指高位整理 隔夜信息面依然没有什么实质性的利好 今天继续有新股申购 在这样的情况下 预计大盘再度平开或小幅低开可能性大 整体看今天指数出现调整的可能性大 日线继续以小阴 小阳或十字星线为主 随时防止主板可能出现的回调 今日操作 就昨日市场的走势看 依然是面子行情 更是将中小创再度推到了一个极为尴尬的境地 当然在筑底的过程中很多的不确定因素将会愈发明显 因此建议大家操作继续在短期寻求涨幅不大的个股或者是底部放量的个股 尤其是再加上业绩稳定的个股将是最好 逢低介入 操作上短期建议执行快进快出的策略 远离短期涨幅过大的个股 具体操作坚持大涨卖 大跌买 不涨不跌选择观望的策略 从昨日市场走势看 又一次证明了彬哥之前所让大家关注的3180点主板可能回调的观点是正确的 而主板也确实在3180点附近出现了回调 对于这样的回调 彬哥认为是一个健康的事情 也是一个必须要出现的事情 现在唯一不能确定的就是在主板回调的时候中小创会不会出现企稳 会不会出现让投资者操作的机会 因此大家今天上午需要至少需要半天的时间去观察市场可能出现的结果 目前行情有一点可以确定的就是主板将会在3180点附近出现调整 因此大家万不可在这个时候再去追涨主板的个股 尤其是以保险银行为首的上证50个股 就周四午后市场的走势看 主板的调整势在必行 因此大家要做好主板调整的心理准备 当然还要做好市场全线调整的心理预期',\n",
       " '原标题 武汉警方一下子抓了808人 还都是俊男靓女 原来他们每天偷偷摸摸干这事 武汉警方一下子抓了808人 还都是俊男靓女 原来他们每天偷偷摸摸干这事 大家还记得今年4月光谷曾发生的一件大事吗 当时微博和朋友圈上都传疯了 说是光谷国际广场大量白领被捕 现场手铐都不够用 结果经记者深入调查后发现 这些被抓的并不是网传的 白领 而是一个有282名涉案人员的诈骗团伙 天呐 接近300人的犯罪团伙 你以为这个数字已经够庞大了吗 错 还有让你更震惊的 据武汉市公安局通报 6月9日 警方在武汉三镇的10处窝点内 抓获了808名嫌疑人 而且令人大跌眼镜的是 他们当中大多都是年青人 用 俊男靓女 来形容也不为过 年纪不大 外形不差 那么到底是犯了什么事呢 其实说起来 这事估计绝大多数人都碰到过 那就是网络诈骗 涉案电脑800余台 手机2000余部 银行卡3000余张 因为涉及的账户太多 涉案金额目前还没统计出来 这是全国涉案人数最多的一起特大网络诈骗案 这些惊人的数字背后 究竟藏着什么样的秘密 警方把他们一锅端了 今年4月 武汉警方获悉在塔子湖地区有电信网络诈骗活动 经过2个多月的秘密侦查 发现了一个特大网络诈骗犯罪团伙 原来该团伙利用非法互联网金融平台 实施推荐股票 炒期货等诈骗 其10处窝点散布在江岸 洪山 东湖高新 硚口 江汉等5个区的写字楼内 涉案人员多达800余名 6月9日上午 武汉警方组织了1000余名警力 分成14个抓捕组 同时对首脑分子和10处窝点实施了突击抓捕行动 目前 警方已依法刑事拘留411人 对45人取保候审 该案还在进一步调查中 他们是如何进行诈骗的 人数众多的这个诈骗组织是怎么样进行人员分工 又是如何一步步引受害人上钩的呢 2015年以来 该犯罪团伙以投资组建的某集团公司为总部 旗下成立多家分公司 子公司 设立人事部 财务部 行政部等机构部门 分为经理 分析师 业务小组长 业务员等组织层级 在网上发布招聘信息招揽 培训业务员 依托虚构的互联网金融平台 通过业务员散布 有内幕消息 等虚假信息 引诱受害人加入专门的QQ群 微信群 再由所谓的 证券公司资深分析师 和 经理 逐个联系受害人 引诱受害人交易股票 期货 贵金属 外汇等金融产品 受害人若获利则按 五五 六四 分成 若亏损则拉入 黑名单 不再联系 网友热评 李晓猫不吃鱼 在人信汇写字楼面试过一个这种工作 一听不对劲就撤了 说不适合我 我嘴巴笨 习惯就好33xxzz 八百多人 可能相当部分人都不大清楚自己到底是啥性质工作吧 刑法守望者 要警惕了 普法 各种工作都要预防法律风险 要做个明白人 不是什么钱都可以拿 尤其是从事金融 保险 银行 财务的人员 不小心就触犯刑法 童颜永在 心理医生 盘在写字楼内的诈骗公司 以高薪招聘业务人员为诱饵 实行诈骗的顽疾 终于被揣掉了 你的渔船 联系一下自己的朋友 看有多少个被抓了 The former degrees 招聘平台和销售会上百分之八十就是这种工作 从源头抓起 防止更多人受伤 宇宇家的小仙女 恐怖 进了一个星期发现不太对劲 这尼玛是让我骗人啊 赶紧自己跑路了 z_路漫漫 我做过 后来听说公司跑路了 睡不饱怎么办啊小铭大 我都面试过这种工作 还培训了几天 话术一看就的套路骗 果断闪人 这种公司太多了 遗忘的金叶子 碰到这样的骗子找我们做视频 最后被我打电话骂了一顿 a一元复始c 还有那些天天电话骚扰别人信贷的 卖房的 卖邮票的 发票的社会生活中一不留神就会被坑 所以活着需要理智 笑看世间丑2448337651 这是在路上发骗广告搞高利贷的那些互联网金融公司吗 未来温暖的时光属于自己 金融港 街道口都是这些 好多同学刚刚毕业都去做过 都是网上投简历 这些公司就猛联系你 其实好多都不知道这是骗人的吧 有强迫症的天蝎座怪咖 吓到我了 冉冉的彗星是个宝 早上还接到说做期货 霖心金鱼And张蒙 都不敢去找工作了 蒋妈妈1 5 刚回到武汉 准备找份工作 看网上好多这种招聘的 感觉像骗人的 都不看的 看了网友的评论 小编只有一个感觉 找工作时一定要擦亮双眼 不要因为一时疏忽 而给自己的生活抹上污点 俗话说 知己知彼百战不殆 弄清网络诈骗的常见手法 才能避免上当受骗 下面就为大家奉上防骗攻略 遇到诈骗只需见招拆招 网络防骗攻略 电信网络诈骗犯罪往往表现为 六大陷阱 1 物美价廉的网购陷阱 2 推销产品的便利陷阱 3 异性交友的情感陷阱 4 中奖信息的惊喜陷阱 5 冒充国家工作人员的恐吓陷阱 6 钓鱼网站和网上银行的迷惑陷阱 下面是网络诈骗中比较常见的几种类型 一起学习如何防范 让骗子无处遁形 1虚假红包诈骗 临近节日时 各大电商平台会以派发红包的形式 为促销活动预热 有不法分子趁机在微信朋友圈 微信群等平台中 派发虚假红包 诱骗大家点击 套取个人信息 或传播木马病毒 盗取银行账号 识骗方法 慎点此类红包领取链接 如果不小心点击 应第一时间关闭手机网络 修改网银 支付宝等重要账户密码 并通过安全软件查杀木马病毒 2二维码诈骗 抢购高峰期 网页打开慢 网银交易出现比较迟钝现象 有不法分子会冒充客服或店主 以单子出现 调单 卡单 等说法为幌子 故意说没有收到款项欺诈消费者 取得信任后要求消费者以其他办法进行转账 识骗方法 消费者要注意 调单 卡单 激活订单等多为诈骗术语 见此类词语基本可以断定对方是骗子 没有收到款项这样的问题 是不会在东京 天猫这样的大型网络购物平台出现的 3钓鱼网站诈骗 节假日期间 公众的购物热情高涨 假冒正规电商官方网站 在线支付平台等的钓鱼网站活动频繁 消费者在忙于浏览各色商品页面时 往往容易忽略链接的安全性 从而误入诈骗分子发来的虚假钓鱼网站 识骗方法 对陌生人发来的商品链接要提高警惕 谨慎打开 如遇网络诈骗应第一时间向属地公安机关报案 并向举报中心举报 4虚假客服诈骗 抢购高峰期 网页打开慢 网银交易出现比较迟钝现象 有不法分子会冒充客服或店主 以单子出现 调单 卡单 等说法为幌子 故意说没有收到款项欺诈消费者 取得信任后要求消费者以其他办法进行转账 识骗方法 消费者要注意 调单 卡单 激活订单等多为诈骗术语 见此类词语基本可以断定对方是骗子 没有收到款项这样的问题 是不会在东京 天猫这样的大型网络购物平台出现的 5预购诈骗 还有不法分子会以 提前购 预售 为诱饵向用户发送木马链接 除了网购链接被植入木马 钓鱼网站 还有不法分子会在 预售 活动上做文章 骗取买家 定金 识骗方法 慎点不明链接 有关购物短信也不要轻信 同时也请给手机装上杀毒软件 提供安全的上网环境 6中奖诈骗 购物过后 很多人会陆陆续续收到一些商家的中奖信息 切记不要随意拨打中奖信息提供的电话号码或点击发来的网站链接地址 很可能会让手机或电脑感染上木马病毒 识骗方法 收到中奖信息后留心一下 看一看你所购买的产品中有没有这家的产品 然后最好能在天猫店里直接和卖家联系确认消息 7朋友圈诈骗 由于缺少第三方监管平台 不法分子会在朋友圈发布虚假低价购物信息 骗取消费者汇款购买 识骗方法 朋友圈里的销售行为 存在取证难 查处难的问题 因此建议大家在朋友圈买东西时 尽可能选择正规第三方支付平台进行支付 避免直接支付 以确保安全 8快递诈骗 不法分子会从非法渠道获得客户信息 制作假的快递单 随后冒充快递员提前联系受骗者 把虚假货品送到消费者手中 骗取钱财 识骗方法 签收包裹前 务必按官方的信息核实对方身份 并确认是否是自己的包裹 在取货之后 一定记得把自己的个人信息从包裹上完全抹去 避免个人信息泄露 9退款诈骗 不法分子常以 退款 或 退货 为由假扮网店客服 要求消费者点击其提供的 钓鱼网站 链接 盗取持卡人的银行密码及动态验证码 识骗方法 如果接到网上购物退款的电话或短信等信息 一定要谨慎对待 切莫泄露银行卡账号 户名 动态验证码等个人信息 同时 提醒大家 保护好自己账户信息 遇到情况一定及时报警 武汉破特大网络诈骗案抓808人 以 内幕消息 骗人 6月12日 武汉市公安局向澎湃新闻通报 该局破获一起特大网络诈骗案 抓获包括卢某 熊某等8名首脑分子在内的涉案人员808名 查扣涉案电脑800余台 手机2000余部 银行卡3000余张 据悉 这是全国打击利用非法互联网金融平台实施诈骗犯罪中 查获涉案人数最多的一起案件',\n",
       " '6月21日 A股纳入MSCI指数尘埃落定 但当天被寄予厚望的券商股并未扛起反弹大旗 22日 在222只纳入MSCI指数的A股股票中 银行股全线飘红 其中招商银行领涨 涨幅达6 66 保险股和券商股的表现也可圈可点 在这222只股票中 金融板块的股票数量和总市值占比均位居首位 分析人士指出 银行股股息率高 估值低 收益稳定 对于资金量较大 投资期限较长的资金存在相当大的吸引力 从国际经验来看 纳入MSCI指数后 相关股市的投资者风格将更加稳健 更加偏好业绩稳定 流动性好 风险低的优质蓝筹股 银行股具估值优势 6月22日 A股金融股表现强势 板块涨幅达1 19 据平安证券统计 在222只纳入MSCI指数的A股股票中 金融板块市值占比达41 32 其中银行 证券和保险子板块的市值占比分别为27 30 7 75 和6 24 多家券商研究报告认为 银行等金融股受到纳入MSCI指数的提振 未来更多境外资金将进入金融股 华泰证券表示 在纳入MSCI指数之后 A股将迎来约850亿元人民币的增量资金 其中 考虑到222只股票中 金融股市值占比约42 并且金融股体量大 流动性强 估值低 符合境外资金偏好 有望迎来超过权重的资金比例 预计金融股有望吸引增量资金约350亿元人民币 新富资本证券投资中心研究总监廖云龙认为 银行股脱颖而出的主要原因是低估值 市场预期银行股基本面改善 同时市场整体风格偏保守 偏爱低估值 22日银行股的大涨是市场风格的延续 是投资者对龙头股和对低估值的防御性选择 东方财富choice统计的一季度末QFII重仓股数据显示 银行股是QFII关注的重点之一 在前五十大重仓股中 北京银行 南京银行 宁波银行 上海银行榜上有名']"
      ]
     },
     "execution_count": 106,
     "metadata": {},
     "output_type": "execute_result"
    }
   ],
   "source": [
    "all_articles[:10]"
   ]
  },
  {
   "cell_type": "code",
   "execution_count": 107,
   "metadata": {},
   "outputs": [
    {
     "name": "stdout",
     "output_type": "stream",
     "text": [
      "length of text: 37412506\n"
     ]
    }
   ],
   "source": [
    "text = ''\n",
    "\n",
    "for a in all_articles:\n",
    "    text += a\n",
    "print('length of text: {}'.format(len(text)))"
   ]
  },
  {
   "cell_type": "code",
   "execution_count": 121,
   "metadata": {},
   "outputs": [],
   "source": [
    "TEXT = text"
   ]
  },
  {
   "cell_type": "code",
   "execution_count": 109,
   "metadata": {},
   "outputs": [],
   "source": [
    "from functools import reduce"
   ]
  },
  {
   "cell_type": "code",
   "execution_count": 111,
   "metadata": {},
   "outputs": [],
   "source": [
    "txt_from_reduce = reduce(lambda a1, a2: a1 + a2, all_articles[:10])"
   ]
  },
  {
   "cell_type": "markdown",
   "metadata": {},
   "source": [
    "## 正则表达式"
   ]
  },
  {
   "cell_type": "markdown",
   "metadata": {},
   "source": [
    "#### 正则表达式的练习在线网址: https://regexone.com/"
   ]
  },
  {
   "cell_type": "code",
   "execution_count": 38,
   "metadata": {},
   "outputs": [],
   "source": [
    "pattern = '\\w+'"
   ]
  },
  {
   "cell_type": "code",
   "execution_count": 40,
   "metadata": {},
   "outputs": [
    {
     "data": {
      "text/plain": [
       "['this',\n",
       " 'is',\n",
       " 'a',\n",
       " 'BIGGGGGGGGG',\n",
       " 'thing',\n",
       " 'BI',\n",
       " 'and',\n",
       " 'BIGGGGGGGGGGGGGGGGGGGGGGGGGGGGGGGGGGGGGGGGgg']"
      ]
     },
     "execution_count": 40,
     "metadata": {},
     "output_type": "execute_result"
    }
   ],
   "source": [
    "re.findall(pattern, string)"
   ]
  },
  {
   "cell_type": "code",
   "execution_count": 41,
   "metadata": {},
   "outputs": [],
   "source": [
    "import requests"
   ]
  },
  {
   "cell_type": "code",
   "execution_count": 43,
   "metadata": {},
   "outputs": [],
   "source": [
    "url = 'https://movie.douban.com/'"
   ]
  },
  {
   "cell_type": "code",
   "execution_count": 45,
   "metadata": {},
   "outputs": [],
   "source": [
    "response = requests.get(url)"
   ]
  },
  {
   "cell_type": "code",
   "execution_count": 68,
   "metadata": {},
   "outputs": [],
   "source": [
    "url_pattern = re.compile('https://movie.douban.com/subject/\\d+/\\?from=showing')"
   ]
  },
  {
   "cell_type": "code",
   "execution_count": 96,
   "metadata": {},
   "outputs": [],
   "source": [
    "image_pattern = re.compile('https://img3.doubanio.com/view/photo/s_ratio_poster/public/\\w\\d+.\\w+')"
   ]
  },
  {
   "cell_type": "code",
   "execution_count": 63,
   "metadata": {},
   "outputs": [],
   "source": [
    "html_content = response.text"
   ]
  },
  {
   "cell_type": "code",
   "execution_count": 58,
   "metadata": {},
   "outputs": [],
   "source": [
    "original_string = 'href=\"https://movie.douban.com/subject/26213252/?from=showing\">'"
   ]
  },
  {
   "cell_type": "code",
   "execution_count": 99,
   "metadata": {},
   "outputs": [],
   "source": [
    "import matplotlib.pyplot as plt"
   ]
  },
  {
   "cell_type": "code",
   "execution_count": 97,
   "metadata": {},
   "outputs": [
    {
     "data": {
      "text/plain": [
       "['https://img3.doubanio.com/view/photo/s_ratio_poster/public/p2551249211.jpg',\n",
       " 'https://img3.doubanio.com/view/photo/s_ratio_poster/public/p2551353482.jpg',\n",
       " 'https://img3.doubanio.com/view/photo/s_ratio_poster/public/p2552522615.jpg',\n",
       " 'https://img3.doubanio.com/view/photo/s_ratio_poster/public/p2549234765.jpg',\n",
       " 'https://img3.doubanio.com/view/photo/s_ratio_poster/public/p2551172384.jpg',\n",
       " 'https://img3.doubanio.com/view/photo/s_ratio_poster/public/p2549558913.jpg',\n",
       " 'https://img3.doubanio.com/view/photo/s_ratio_poster/public/p2552614343.jpg',\n",
       " 'https://img3.doubanio.com/view/photo/s_ratio_poster/public/p2548870813.jpg',\n",
       " 'https://img3.doubanio.com/view/photo/s_ratio_poster/public/p2549523952.jpg',\n",
       " 'https://img3.doubanio.com/view/photo/s_ratio_poster/public/p2549177902.jpg',\n",
       " 'https://img3.doubanio.com/view/photo/s_ratio_poster/public/p2549353234.jpg',\n",
       " 'https://img3.doubanio.com/view/photo/s_ratio_poster/public/p2550448960.jpg',\n",
       " 'https://img3.doubanio.com/view/photo/s_ratio_poster/public/p2549910141.jpg',\n",
       " 'https://img3.doubanio.com/view/photo/s_ratio_poster/public/p2545472803.jpg',\n",
       " 'https://img3.doubanio.com/view/photo/s_ratio_poster/public/p2551444674.jpg',\n",
       " 'https://img3.doubanio.com/view/photo/s_ratio_poster/public/p2546335362.jpg',\n",
       " 'https://img3.doubanio.com/view/photo/s_ratio_poster/public/p2551693460.jpg',\n",
       " 'https://img3.doubanio.com/view/photo/s_ratio_poster/public/p2544987866.jpg',\n",
       " 'https://img3.doubanio.com/view/photo/s_ratio_poster/public/p2541035591.jpg',\n",
       " 'https://img3.doubanio.com/view/photo/s_ratio_poster/public/p2550456812.jpg',\n",
       " 'https://img3.doubanio.com/view/photo/s_ratio_poster/public/p2549537782.jpg',\n",
       " 'https://img3.doubanio.com/view/photo/s_ratio_poster/public/p2551252121.jpg',\n",
       " 'https://img3.doubanio.com/view/photo/s_ratio_poster/public/p2548549246.jpg',\n",
       " 'https://img3.doubanio.com/view/photo/s_ratio_poster/public/p2541240741.jpg',\n",
       " 'https://img3.doubanio.com/view/photo/s_ratio_poster/public/p2521648155.jpg',\n",
       " 'https://img3.doubanio.com/view/photo/s_ratio_poster/public/p2528968925.jpg',\n",
       " 'https://img3.doubanio.com/view/photo/s_ratio_poster/public/p479682972.jpg',\n",
       " 'https://img3.doubanio.com/view/photo/s_ratio_poster/public/p2529571873.jpg']"
      ]
     },
     "execution_count": 97,
     "metadata": {},
     "output_type": "execute_result"
    }
   ],
   "source": [
    "image_pattern.findall(html_content)"
   ]
  },
  {
   "cell_type": "code",
   "execution_count": 65,
   "metadata": {},
   "outputs": [
    {
     "data": {
      "text/plain": [
       "{'https://movie.douban.com/subject/1652592/?from=showing',\n",
       " 'https://movie.douban.com/subject/19899707/?from=showing',\n",
       " 'https://movie.douban.com/subject/2244426/?from=showing',\n",
       " 'https://movie.douban.com/subject/25833233/?from=showing',\n",
       " 'https://movie.douban.com/subject/25884416/?from=showing',\n",
       " 'https://movie.douban.com/subject/25924056/?from=showing',\n",
       " 'https://movie.douban.com/subject/26213252/?from=showing',\n",
       " 'https://movie.douban.com/subject/26266893/?from=showing',\n",
       " 'https://movie.douban.com/subject/26715636/?from=showing',\n",
       " 'https://movie.douban.com/subject/26728669/?from=showing',\n",
       " 'https://movie.douban.com/subject/26909787/?from=showing',\n",
       " 'https://movie.douban.com/subject/27040737/?from=showing',\n",
       " 'https://movie.douban.com/subject/27042871/?from=showing',\n",
       " 'https://movie.douban.com/subject/27060077/?from=showing',\n",
       " 'https://movie.douban.com/subject/27063305/?from=showing',\n",
       " 'https://movie.douban.com/subject/27150225/?from=showing',\n",
       " 'https://movie.douban.com/subject/27179414/?from=showing',\n",
       " 'https://movie.douban.com/subject/27191431/?from=showing',\n",
       " 'https://movie.douban.com/subject/27202819/?from=showing',\n",
       " 'https://movie.douban.com/subject/27602116/?from=showing',\n",
       " 'https://movie.douban.com/subject/27624661/?from=showing',\n",
       " 'https://movie.douban.com/subject/27663742/?from=showing',\n",
       " 'https://movie.douban.com/subject/30145516/?from=showing',\n",
       " 'https://movie.douban.com/subject/30164448/?from=showing',\n",
       " 'https://movie.douban.com/subject/30288751/?from=showing',\n",
       " 'https://movie.douban.com/subject/30334073/?from=showing',\n",
       " 'https://movie.douban.com/subject/30335059/?from=showing',\n",
       " 'https://movie.douban.com/subject/30486462/?from=showing',\n",
       " 'https://movie.douban.com/subject/4840388/?from=showing',\n",
       " 'https://movie.douban.com/subject/5300054/?from=showing'}"
      ]
     },
     "execution_count": 65,
     "metadata": {},
     "output_type": "execute_result"
    }
   ],
   "source": [
    "set(url_pattern.findall(html_content))"
   ]
  },
  {
   "cell_type": "markdown",
   "metadata": {},
   "source": [
    "![](https://img3.doubanio.com/view/photo/s_ratio_poster/public/p2544987866.webp)"
   ]
  },
  {
   "cell_type": "markdown",
   "metadata": {},
   "source": [
    "## 关于爬虫的深入知识\n",
    "\n",
    "+ beatifulsoup \n",
    "+ webkit"
   ]
  },
  {
   "cell_type": "code",
   "execution_count": 57,
   "metadata": {},
   "outputs": [],
   "source": [
    "for line in html_content.split():\n",
    "    match = url_pattern.findall(line)\n",
    "    if match:\n",
    "        print(match[0])"
   ]
  },
  {
   "cell_type": "markdown",
   "metadata": {},
   "source": [
    "## Get all tokens"
   ]
  },
  {
   "cell_type": "code",
   "execution_count": 114,
   "metadata": {},
   "outputs": [],
   "source": [
    "import jieba"
   ]
  },
  {
   "cell_type": "code",
   "execution_count": 118,
   "metadata": {},
   "outputs": [],
   "source": [
    "def cut(string): return list(jieba.cut(string))"
   ]
  },
  {
   "cell_type": "code",
   "execution_count": 119,
   "metadata": {},
   "outputs": [
    {
     "data": {
      "text/plain": [
       "['这是', '一个', '测试']"
      ]
     },
     "execution_count": 119,
     "metadata": {},
     "output_type": "execute_result"
    }
   ],
   "source": [
    "cut('这是一个测试')"
   ]
  },
  {
   "cell_type": "code",
   "execution_count": 122,
   "metadata": {},
   "outputs": [],
   "source": [
    "ALL_TOKENS = cut(TEXT)"
   ]
  },
  {
   "cell_type": "code",
   "execution_count": 132,
   "metadata": {},
   "outputs": [],
   "source": [
    "valida_tokens = [t for t in ALL_TOKENS if t.strip() and t != 'n']"
   ]
  },
  {
   "cell_type": "code",
   "execution_count": 123,
   "metadata": {},
   "outputs": [
    {
     "data": {
      "text/plain": [
       "21906852"
      ]
     },
     "execution_count": 123,
     "metadata": {},
     "output_type": "execute_result"
    }
   ],
   "source": [
    "len(ALL_TOKENS)"
   ]
  },
  {
   "cell_type": "code",
   "execution_count": 133,
   "metadata": {},
   "outputs": [
    {
     "data": {
      "text/plain": [
       "17221785"
      ]
     },
     "execution_count": 133,
     "metadata": {},
     "output_type": "execute_result"
    }
   ],
   "source": [
    "len(valida_tokens)"
   ]
  },
  {
   "cell_type": "code",
   "execution_count": 127,
   "metadata": {},
   "outputs": [
    {
     "data": {
      "text/plain": [
       "['此外',\n",
       " '自',\n",
       " '本周',\n",
       " '6',\n",
       " '月',\n",
       " '12',\n",
       " '日',\n",
       " '起',\n",
       " '除',\n",
       " '小米',\n",
       " '手机',\n",
       " '6',\n",
       " '等',\n",
       " '15',\n",
       " '款',\n",
       " '机型',\n",
       " '外',\n",
       " '其余',\n",
       " '机型',\n",
       " '已']"
      ]
     },
     "execution_count": 127,
     "metadata": {},
     "output_type": "execute_result"
    }
   ],
   "source": [
    "valida_tokens[:20]"
   ]
  },
  {
   "cell_type": "markdown",
   "metadata": {},
   "source": [
    "## Get the frequences of words"
   ]
  },
  {
   "cell_type": "code",
   "execution_count": 128,
   "metadata": {},
   "outputs": [],
   "source": [
    "from collections import Counter"
   ]
  },
  {
   "cell_type": "code",
   "execution_count": 134,
   "metadata": {},
   "outputs": [
    {
     "data": {
      "text/plain": [
       "Counter({1: 3, 2: 3, 3: 1, 0: 1})"
      ]
     },
     "execution_count": 134,
     "metadata": {},
     "output_type": "execute_result"
    }
   ],
   "source": [
    "Counter([1, 1, 2, 2, 2, 3, 1, 0])"
   ]
  },
  {
   "cell_type": "code",
   "execution_count": 135,
   "metadata": {},
   "outputs": [],
   "source": [
    "words_count = Counter(valida_tokens)"
   ]
  },
  {
   "cell_type": "code",
   "execution_count": 136,
   "metadata": {},
   "outputs": [
    {
     "data": {
      "text/plain": [
       "[('的', 703820),\n",
       " ('在', 264633),\n",
       " ('月', 189525),\n",
       " ('日', 169920),\n",
       " ('新华社', 142462),\n",
       " ('和', 134220),\n",
       " ('年', 123531),\n",
       " ('了', 121904),\n",
       " ('是', 100288),\n",
       " ('１', 88187)]"
      ]
     },
     "execution_count": 136,
     "metadata": {},
     "output_type": "execute_result"
    }
   ],
   "source": [
    "words_count.most_common(10)"
   ]
  },
  {
   "cell_type": "code",
   "execution_count": 143,
   "metadata": {},
   "outputs": [],
   "source": [
    "frequences = [f for w, f in words_count.most_common(100)]"
   ]
  },
  {
   "cell_type": "code",
   "execution_count": 144,
   "metadata": {},
   "outputs": [],
   "source": [
    "x = [i for i in range(len(frequences[:100]))]"
   ]
  },
  {
   "cell_type": "code",
   "execution_count": 138,
   "metadata": {},
   "outputs": [
    {
     "data": {
      "text/plain": [
       "249397"
      ]
     },
     "execution_count": 138,
     "metadata": {},
     "output_type": "execute_result"
    }
   ],
   "source": [
    "len(frequences)"
   ]
  },
  {
   "cell_type": "code",
   "execution_count": 140,
   "metadata": {},
   "outputs": [],
   "source": [
    "import matplotlib.pyplot as plt"
   ]
  },
  {
   "cell_type": "code",
   "execution_count": 141,
   "metadata": {},
   "outputs": [],
   "source": [
    "%matplotlib inline"
   ]
  },
  {
   "cell_type": "code",
   "execution_count": 145,
   "metadata": {},
   "outputs": [
    {
     "data": {
      "text/plain": [
       "[<matplotlib.lines.Line2D at 0x14a77e5f8>]"
      ]
     },
     "execution_count": 145,
     "metadata": {},
     "output_type": "execute_result"
    },
    {
     "data": {
      "image/png": "[encoded data removed]",
      "text/plain": [
       "<Figure size 432x288 with 1 Axes>"
      ]
     },
     "metadata": {
      "needs_background": "light"
     },
     "output_type": "display_data"
    }
   ],
   "source": [
    "plt.plot(x, frequences)"
   ]
  },
  {
   "cell_type": "code",
   "execution_count": 146,
   "metadata": {},
   "outputs": [],
   "source": [
    "import numpy as np"
   ]
  },
  {
   "cell_type": "code",
   "execution_count": 149,
   "metadata": {},
   "outputs": [
    {
     "data": {
      "text/plain": [
       "[<matplotlib.lines.Line2D at 0x14a08ac50>]"
      ]
     },
     "execution_count": 149,
     "metadata": {},
     "output_type": "execute_result"
    },
    {
     "data": {
      "image/png": "[encoded data removed]",
      "text/plain": [
       "<Figure size 432x288 with 1 Axes>"
      ]
     },
     "metadata": {
      "needs_background": "light"
     },
     "output_type": "display_data"
    }
   ],
   "source": [
    "plt.plot(x, np.log(frequences))"
   ]
  },
  {
   "cell_type": "code",
   "execution_count": 151,
   "metadata": {},
   "outputs": [],
   "source": [
    "frequences_all = [f for w, f in words_count.most_common()]"
   ]
  },
  {
   "cell_type": "code",
   "execution_count": 152,
   "metadata": {},
   "outputs": [],
   "source": [
    "frequences_sum = sum(frequences_all)"
   ]
  },
  {
   "cell_type": "code",
   "execution_count": 155,
   "metadata": {},
   "outputs": [
    {
     "data": {
      "text/plain": [
       "17221785"
      ]
     },
     "execution_count": 155,
     "metadata": {},
     "output_type": "execute_result"
    }
   ],
   "source": [
    "frequences_sum"
   ]
  },
  {
   "cell_type": "code",
   "execution_count": 174,
   "metadata": {},
   "outputs": [
    {
     "data": {
      "text/plain": [
       "5.8065990255946174e-08"
      ]
     },
     "execution_count": 174,
     "metadata": {},
     "output_type": "execute_result"
    }
   ],
   "source": [
    "1 / frequences_sum"
   ]
  },
  {
   "cell_type": "code",
   "execution_count": 175,
   "metadata": {},
   "outputs": [],
   "source": [
    "def get_prob(word): \n",
    "    esp = 1 / frequences_sum\n",
    "    if word in words_count: \n",
    "        return words_count[word] / frequences_sum\n",
    "    else:\n",
    "        return esp"
   ]
  },
  {
   "cell_type": "code",
   "execution_count": 162,
   "metadata": {},
   "outputs": [
    {
     "data": {
      "text/plain": [
       "0.0011602746172943166"
      ]
     },
     "execution_count": 162,
     "metadata": {},
     "output_type": "execute_result"
    }
   ],
   "source": [
    "get_prob('我们')"
   ]
  },
  {
   "cell_type": "code",
   "execution_count": 163,
   "metadata": {},
   "outputs": [],
   "source": [
    "def product(numbers):\n",
    "    return reduce(lambda n1, n2: n1 * n2, numbers)"
   ]
  },
  {
   "cell_type": "code",
   "execution_count": 167,
   "metadata": {},
   "outputs": [
    {
     "data": {
      "text/plain": [
       "240"
      ]
     },
     "execution_count": 167,
     "metadata": {},
     "output_type": "execute_result"
    }
   ],
   "source": [
    "product([1, 2, 3, 4, 10])"
   ]
  },
  {
   "cell_type": "code",
   "execution_count": 168,
   "metadata": {},
   "outputs": [],
   "source": [
    "def language_model_one_gram(string):\n",
    "    words = cut(string)\n",
    "    return product([get_prob(w) for w in words])"
   ]
  },
  {
   "cell_type": "code",
   "execution_count": 169,
   "metadata": {},
   "outputs": [
    {
     "data": {
      "text/plain": [
       "1.4093284706718309e-14"
      ]
     },
     "execution_count": 169,
     "metadata": {},
     "output_type": "execute_result"
    }
   ],
   "source": [
    "language_model_one_gram('广交会下个月举办')"
   ]
  },
  {
   "cell_type": "code",
   "execution_count": 170,
   "metadata": {},
   "outputs": [
    {
     "data": {
      "text/plain": [
       "1.4511549339176565e-18"
      ]
     },
     "execution_count": 170,
     "metadata": {},
     "output_type": "execute_result"
    }
   ],
   "source": [
    "language_model_one_gram('长征火箭下周发射')"
   ]
  },
  {
   "cell_type": "code",
   "execution_count": 176,
   "metadata": {},
   "outputs": [
    {
     "data": {
      "text/plain": [
       "7.149551679191113e-20"
      ]
     },
     "execution_count": 176,
     "metadata": {},
     "output_type": "execute_result"
    }
   ],
   "source": [
    "language_model_one_gram('一个掉在了民房上')"
   ]
  },
  {
   "cell_type": "code",
   "execution_count": 178,
   "metadata": {},
   "outputs": [],
   "source": [
    "sentences = \"\"\"\n",
    "这是一个比较正常的句子\n",
    "这个一个比较罕见的句子\n",
    "小明毕业于清华大学\n",
    "小明毕业于秦华大学\n",
    "\"\"\".split()"
   ]
  },
  {
   "cell_type": "code",
   "execution_count": 179,
   "metadata": {},
   "outputs": [
    {
     "name": "stdout",
     "output_type": "stream",
     "text": [
      "这是一个比较正常的句子 7.429984647015532e-22\n",
      "这个一个比较罕见的句子 1.7566783516469408e-22\n",
      "小明毕业于清华大学 3.039960976514903e-18\n",
      "小明毕业于秦华大学 5.813337476916057e-24\n"
     ]
    }
   ],
   "source": [
    "for s in sentences:\n",
    "    print(s, language_model_one_gram(s))"
   ]
  },
  {
   "cell_type": "code",
   "execution_count": 180,
   "metadata": {},
   "outputs": [
    {
     "name": "stdout",
     "output_type": "stream",
     "text": [
      "明天晚上请你吃大餐，我们一起吃苹果 is more possible\n",
      "---- 今天晚上请你吃大餐，我们一起吃日料 with probility 6.279484454158278e-50\n",
      "---- 明天晚上请你吃大餐，我们一起吃苹果 with probility 5.1533768284792506e-48\n",
      "真是一只好看的小猫 is more possible\n",
      "---- 真事一只好看的小猫 with probility 2.873219522813593e-25\n",
      "---- 真是一只好看的小猫 with probility 1.0935351206452033e-21\n",
      "今晚我去吃火锅 is more possible\n",
      "---- 我去吃火锅，今晚 with probility 6.876097222574346e-26\n",
      "---- 今晚我去吃火锅 with probility 1.1841866800627252e-18\n"
     ]
    }
   ],
   "source": [
    "need_compared = [\n",
    "    \"今天晚上请你吃大餐，我们一起吃日料 明天晚上请你吃大餐，我们一起吃苹果\",\n",
    "    \"真事一只好看的小猫 真是一只好看的小猫\",\n",
    "    \"我去吃火锅，今晚 今晚我去吃火锅\"\n",
    "]\n",
    "\n",
    "for s in need_compared:\n",
    "    s1, s2 = s.split()\n",
    "    p1, p2 = language_model_one_gram(s1), language_model_one_gram(s2)\n",
    "    \n",
    "    better = s1 if p1 > p2 else s2\n",
    "    \n",
    "    print('{} is more possible'.format(better))\n",
    "    print('-'*4 + ' {} with probility {}'.format(s1, p1))\n",
    "    print('-'*4 + ' {} with probility {}'.format(s2, p2))"
   ]
  },
  {
   "cell_type": "markdown",
   "metadata": {},
   "source": []
  },
  {
   "cell_type": "markdown",
   "metadata": {},
   "source": [
    "## 2-Gram"
   ]
  },
  {
   "cell_type": "markdown",
   "metadata": {},
   "source": [
    "## Get the combination probability of 2-grams"
   ]
  },
  {
   "cell_type": "markdown",
   "metadata": {},
   "source": [
    "$$ Pr(S) = Pr(w_1\\cdot w_2 \\cdots w_n) \\sim Pr(w_1) \\cdot Pr(w_2 | w_1) \\cdots Pr(w_n | w_{n-1})$$\n",
    "\n",
    "$$ Pr(w_2 | w_1) =  \\frac { Pr(w_1 \\cdot w_2) }{Pr(w_1)} $$ \n"
   ]
  },
  {
   "cell_type": "code",
   "execution_count": 183,
   "metadata": {},
   "outputs": [],
   "source": [
    "valid_tokens = [str(t) for t in valida_tokens] "
   ]
  },
  {
   "cell_type": "code",
   "execution_count": 185,
   "metadata": {},
   "outputs": [],
   "source": [
    "all_2_grams_words = [''.join(valid_tokens[i:i+2]) for i in range(len(valid_tokens[:-2]))]"
   ]
  },
  {
   "cell_type": "code",
   "execution_count": 231,
   "metadata": {},
   "outputs": [],
   "source": [
    "_2_gram_sum = len(all_2_grams_words)\n",
    "_2_gram_counter = Counter(all_2_grams_words)\n",
    "\n",
    "def get_combination_prob(w1, w2):\n",
    "    if w1 + w2 in _2_gram_counter: return _2_gram_counter[w1+w2] / _2_gram_sum\n",
    "    else:\n",
    "        return 1 / _2_gram_sum"
   ]
  },
  {
   "cell_type": "code",
   "execution_count": 214,
   "metadata": {},
   "outputs": [
    {
     "data": {
      "text/plain": [
       "1.8000459069772276e-06"
      ]
     },
     "execution_count": 214,
     "metadata": {},
     "output_type": "execute_result"
    }
   ],
   "source": [
    "get_combination_prob('去', '北京')"
   ]
  },
  {
   "cell_type": "code",
   "execution_count": 215,
   "metadata": {},
   "outputs": [
    {
     "data": {
      "text/plain": [
       "8.129239579897157e-07"
      ]
     },
     "execution_count": 215,
     "metadata": {},
     "output_type": "execute_result"
    }
   ],
   "source": [
    "get_combination_prob('波音', '飞机')"
   ]
  },
  {
   "cell_type": "code",
   "execution_count": 216,
   "metadata": {},
   "outputs": [
    {
     "data": {
      "text/plain": [
       "2.6129698649669433e-06"
      ]
     },
     "execution_count": 216,
     "metadata": {},
     "output_type": "execute_result"
    }
   ],
   "source": [
    "get_combination_prob('苹果', '手机')"
   ]
  },
  {
   "cell_type": "code",
   "execution_count": 240,
   "metadata": {},
   "outputs": [],
   "source": [
    "def get_prob_2_gram(w1, w2):\n",
    "    return get_combination_prob(w1, w2) / get_prob(w1)"
   ]
  },
  {
   "cell_type": "code",
   "execution_count": 218,
   "metadata": {
    "scrolled": true
   },
   "outputs": [
    {
     "name": "stderr",
     "output_type": "stream",
     "text": [
      "ic| get_combination_prob(w1, w2): 2.9032998499632703e-07\n",
      "ic| get_prob(w1): 0.0004233591349561036\n"
     ]
    },
    {
     "data": {
      "text/plain": [
       "0.0006857770649650213"
      ]
     },
     "execution_count": 218,
     "metadata": {},
     "output_type": "execute_result"
    }
   ],
   "source": [
    "get_prob_2_gram('去', '沈阳')"
   ]
  },
  {
   "cell_type": "code",
   "execution_count": 219,
   "metadata": {},
   "outputs": [
    {
     "name": "stderr",
     "output_type": "stream",
     "text": [
      "ic| get_combination_prob(w1, w2): 1.8000459069772276e-06\n",
      "ic| get_prob(w1): 0.0004233591349561036\n"
     ]
    },
    {
     "data": {
      "text/plain": [
       "0.004251817802783131"
      ]
     },
     "execution_count": 219,
     "metadata": {},
     "output_type": "execute_result"
    }
   ],
   "source": [
    "get_prob_2_gram('去', '北京')"
   ]
  },
  {
   "cell_type": "code",
   "execution_count": 220,
   "metadata": {},
   "outputs": [],
   "source": [
    "from icecream import ic"
   ]
  },
  {
   "cell_type": "code",
   "execution_count": 241,
   "metadata": {},
   "outputs": [],
   "source": [
    "def langauge_model_of_2_gram(sentence):\n",
    "    sentence_probability = 1\n",
    "    \n",
    "    words = cut(sentence)\n",
    "    \n",
    "    for i, word in enumerate(words):\n",
    "        if i == 0: \n",
    "            prob = get_prob(word)\n",
    "        else:\n",
    "            previous = words[i-1]\n",
    "            prob = get_prob_2_gram(previous, word)\n",
    "        sentence_probability *= prob\n",
    "    \n",
    "    return sentence_probability"
   ]
  },
  {
   "cell_type": "code",
   "execution_count": 242,
   "metadata": {},
   "outputs": [
    {
     "data": {
      "text/plain": [
       "4.5133725473313174e-18"
      ]
     },
     "execution_count": 242,
     "metadata": {},
     "output_type": "execute_result"
    }
   ],
   "source": [
    "langauge_model_of_2_gram('小明今天抽奖抽到一台苹果手机')"
   ]
  },
  {
   "cell_type": "code",
   "execution_count": 243,
   "metadata": {},
   "outputs": [
    {
     "data": {
      "text/plain": [
       "3.9724842499924055e-18"
      ]
     },
     "execution_count": 243,
     "metadata": {},
     "output_type": "execute_result"
    }
   ],
   "source": [
    "langauge_model_of_2_gram('小明今天抽奖抽到一台波音飞机')"
   ]
  },
  {
   "cell_type": "markdown",
   "metadata": {},
   "source": [
    "## Review the problem using 2-gram"
   ]
  },
  {
   "cell_type": "code",
   "execution_count": 246,
   "metadata": {},
   "outputs": [
    {
     "name": "stdout",
     "output_type": "stream",
     "text": [
      "今天晚上请你吃大餐，我们一起吃日料 is more possible\n",
      "---- 今天晚上请你吃大餐，我们一起吃日料 with probility 6.895905640955031e-28\n",
      "---- 明天晚上请你吃大餐，我们一起吃苹果 with probility 5.516724512764024e-28\n",
      "真是一只好看的小猫 is more possible\n",
      "---- 真事一只好看的小猫 with probility 1.6570998748154123e-19\n",
      "---- 真是一只好看的小猫 with probility 3.4765951336188093e-16\n",
      "今晚我去吃火锅 is more possible\n",
      "---- 今晚我去吃火锅 with probility 6.82225584071837e-14\n",
      "---- 今晚火锅去吃我 with probility 9.986004768787415e-16\n",
      "养乐多绿来一杯 is more possible\n",
      "---- 洋葱奶昔来一杯 with probility 1.0579577386518395e-12\n",
      "---- 养乐多绿来一杯 with probility 5.806600374258542e-08\n"
     ]
    }
   ],
   "source": [
    "need_compared = [\n",
    "    \"今天晚上请你吃大餐，我们一起吃日料 明天晚上请你吃大餐，我们一起吃苹果\",\n",
    "    \"真事一只好看的小猫 真是一只好看的小猫\",\n",
    "    \"今晚我去吃火锅 今晚火锅去吃我\",\n",
    "    \"洋葱奶昔来一杯 养乐多绿来一杯\"\n",
    "]\n",
    "\n",
    "for s in need_compared:\n",
    "    s1, s2 = s.split()\n",
    "    p1, p2 = langauge_model_of_2_gram(s1), langauge_model_of_2_gram(s2)\n",
    "    \n",
    "    better = s1 if p1 > p2 else s2\n",
    "    \n",
    "    print('{} is more possible'.format(better))\n",
    "    print('-'*4 + ' {} with probility {}'.format(s1, p1))\n",
    "    print('-'*4 + ' {} with probility {}'.format(s2, p2))"
   ]
  },
  {
   "cell_type": "code",
   "execution_count": 274,
   "metadata": {},
   "outputs": [],
   "source": [
    "grammar = \"\"\"\n",
    "sentence => noun_phrase verb_phrase \n",
    "noun_phrase => Article Adj* noun belong \n",
    "belong => de property\n",
    "de => 的\n",
    "property => 眼睛 | 裙子 | 胳膊 | 尾巴\n",
    "Adj* => null | Adj Adj*\n",
    "verb_phrase => verb noun_phrase\n",
    "Article =>  一个 | 这个\n",
    "noun =>   女人 |  篮球 | 桌子 | 小猫\n",
    "verb => 看着   |  坐在 |  听着 | 看见\n",
    "Adj =>   蓝色的 |  好看的 | 小小的\n",
    "\"\"\""
   ]
  },
  {
   "cell_type": "code",
   "execution_count": 260,
   "metadata": {},
   "outputs": [],
   "source": [
    "import random\n"
   ]
  },
  {
   "cell_type": "code",
   "execution_count": 249,
   "metadata": {},
   "outputs": [],
   "source": [
    "def parse_grammar(grammar_str, sep='=>'):\n",
    "    grammar = {}\n",
    "    for line in grammar_str.split('\\n'): \n",
    "        line = line.strip()\n",
    "        if not line: continue\n",
    "        \n",
    "        target, rules = line.split(sep)\n",
    "        \n",
    "        grammar[target.strip()] = [r.split() for r in rules.split('|')]\n",
    "    \n",
    "    return grammar"
   ]
  },
  {
   "cell_type": "code",
   "execution_count": 250,
   "metadata": {},
   "outputs": [],
   "source": [
    "def gene(grammar_parsed, target='sentence'):\n",
    "    if target not in grammar_parsed: return target\n",
    "    \n",
    "    rule = random.choice(grammar_parsed[target])\n",
    "    return ''.join(gene(grammar_parsed, target=r) for r in rule if r!='null')"
   ]
  },
  {
   "cell_type": "code",
   "execution_count": 271,
   "metadata": {},
   "outputs": [],
   "source": [
    "g = parse_grammar(grammar)"
   ]
  },
  {
   "cell_type": "code",
   "execution_count": 272,
   "metadata": {},
   "outputs": [],
   "source": [
    "random_generated = [gene(g) for _ in range(100)]"
   ]
  },
  {
   "cell_type": "code",
   "execution_count": 277,
   "metadata": {},
   "outputs": [],
   "source": [
    "s1 = {1, 2, 3}"
   ]
  },
  {
   "cell_type": "code",
   "execution_count": 278,
   "metadata": {},
   "outputs": [],
   "source": [
    "s2 = {4, 5, 2}"
   ]
  },
  {
   "cell_type": "code",
   "execution_count": 280,
   "metadata": {},
   "outputs": [
    {
     "data": {
      "text/plain": [
       "{1, 2, 3, 4, 5}"
      ]
     },
     "execution_count": 280,
     "metadata": {},
     "output_type": "execute_result"
    }
   ],
   "source": [
    "s1 | s2"
   ]
  },
  {
   "cell_type": "code",
   "execution_count": null,
   "metadata": {},
   "outputs": [],
   "source": [
    "\"|\" == > 'or'"
   ]
  },
  {
   "cell_type": "code",
   "execution_count": 273,
   "metadata": {},
   "outputs": [
    {
     "data": {
      "text/plain": [
       "['一个小猫的眼睛看见一个女人的眼睛',\n",
       " '一个女人的裙子看见这个篮球的眼睛',\n",
       " '这个小猫的裙子坐在一个女人的眼睛',\n",
       " '一个篮球的眼睛看着这个女人的眼睛',\n",
       " '这个女人的胳膊看着这个桌子的尾巴',\n",
       " '一个女人的尾巴看见一个桌子的裙子',\n",
       " '一个女人的尾巴听着这个女人的胳膊',\n",
       " '一个女人的尾巴坐在一个小猫的尾巴',\n",
       " '这个桌子的胳膊坐在这个桌子的眼睛',\n",
       " '这个女人的胳膊坐在这个小猫的胳膊',\n",
       " '一个桌子的胳膊看见这个桌子的尾巴',\n",
       " '这个小猫的裙子看着一个女人的尾巴',\n",
       " '一个小猫的尾巴看着这个桌子的裙子',\n",
       " '一个桌子的胳膊坐在一个桌子的裙子',\n",
       " '一个篮球的裙子看见一个篮球的眼睛',\n",
       " '这个篮球的胳膊看着这个小猫的裙子',\n",
       " '一个桌子的尾巴听着一个女人的尾巴',\n",
       " '一个篮球的眼睛听着这个女人的眼睛',\n",
       " '这个小小的小猫的胳膊看见这个篮球的眼睛',\n",
       " '一个桌子的眼睛听着一个小猫的眼睛',\n",
       " '一个篮球的尾巴坐在一个小猫的胳膊',\n",
       " '这个桌子的胳膊看着这个小小的篮球的胳膊',\n",
       " '一个篮球的胳膊听着一个桌子的眼睛',\n",
       " '一个桌子的眼睛听着这个女人的裙子',\n",
       " '这个小猫的胳膊听着这个女人的尾巴',\n",
       " '这个小猫的裙子听着这个女人的裙子',\n",
       " '这个小猫的裙子坐在一个篮球的尾巴',\n",
       " '一个小小的桌子的眼睛看着这个小小的桌子的胳膊',\n",
       " '一个篮球的尾巴听着这个桌子的眼睛',\n",
       " '这个篮球的裙子坐在这个小小的桌子的眼睛',\n",
       " '一个小小的篮球的尾巴坐在一个篮球的眼睛',\n",
       " '这个桌子的胳膊看着一个篮球的裙子',\n",
       " '一个篮球的眼睛坐在这个小猫的裙子',\n",
       " '一个小小的女人的胳膊听着一个桌子的裙子',\n",
       " '一个小猫的裙子听着一个篮球的胳膊',\n",
       " '这个桌子的眼睛坐在这个小小的桌子的裙子',\n",
       " '这个桌子的尾巴听着一个小小的桌子的胳膊',\n",
       " '一个篮球的裙子听着这个小小的女人的胳膊',\n",
       " '这个篮球的裙子听着一个篮球的裙子',\n",
       " '一个小猫的眼睛听着这个小小的桌子的裙子',\n",
       " '这个女人的眼睛坐在一个蓝色的女人的胳膊',\n",
       " '这个女人的眼睛看见一个蓝色的桌子的眼睛',\n",
       " '这个小小的小小的女人的胳膊听着一个小猫的胳膊',\n",
       " '一个桌子的尾巴看着这个蓝色的女人的尾巴',\n",
       " '这个小小的蓝色的女人的裙子看见这个小猫的眼睛',\n",
       " '一个篮球的尾巴听着一个小小的小小的桌子的眼睛',\n",
       " '这个好看的女人的胳膊坐在一个桌子的裙子',\n",
       " '这个蓝色的小猫的裙子看见这个桌子的胳膊',\n",
       " '一个好看的篮球的尾巴听着一个女人的胳膊',\n",
       " '一个蓝色的小猫的胳膊坐在一个篮球的眼睛',\n",
       " '一个好看的女人的尾巴坐在这个篮球的尾巴',\n",
       " '一个小猫的裙子看见一个蓝色的篮球的胳膊',\n",
       " '一个蓝色的篮球的裙子坐在这个桌子的胳膊',\n",
       " '这个蓝色的小猫的胳膊看见一个篮球的尾巴',\n",
       " '一个小小的好看的桌子的尾巴看见一个篮球的眼睛',\n",
       " '这个桌子的眼睛看着一个好看的篮球的尾巴',\n",
       " '一个小小的女人的胳膊坐在这个蓝色的小猫的尾巴',\n",
       " '这个好看的篮球的尾巴坐在这个桌子的尾巴',\n",
       " '一个小小的桌子的胳膊看着一个好看的篮球的胳膊',\n",
       " '一个小猫的尾巴坐在这个好看的桌子的裙子',\n",
       " '一个小猫的尾巴听着这个蓝色的女人的裙子',\n",
       " '这个蓝色的篮球的眼睛看着一个小猫的尾巴',\n",
       " '一个好看的桌子的眼睛看见一个小小的篮球的尾巴',\n",
       " '一个好看的小小的女人的尾巴坐在这个桌子的眼睛',\n",
       " '这个小小的好看的篮球的尾巴看着一个小猫的胳膊',\n",
       " '一个好看的小小的小猫的裙子听着一个女人的胳膊',\n",
       " '一个蓝色的篮球的裙子听着这个小小的桌子的裙子',\n",
       " '一个桌子的胳膊看着这个蓝色的蓝色的女人的尾巴',\n",
       " '这个小小的小小的小猫的眼睛看着这个好看的篮球的尾巴',\n",
       " '一个好看的小小的小猫的裙子看着这个小小的小猫的胳膊',\n",
       " '这个小猫的眼睛看见这个好看的蓝色的篮球的眼睛',\n",
       " '一个篮球的裙子听着这个小小的好看的桌子的裙子',\n",
       " '一个好看的女人的胳膊坐在这个蓝色的小猫的胳膊',\n",
       " '这个蓝色的女人的胳膊看见这个好看的桌子的尾巴',\n",
       " '一个女人的裙子听着一个好看的好看的小猫的眼睛',\n",
       " '这个蓝色的小小的篮球的尾巴坐在这个小小的女人的胳膊',\n",
       " '这个好看的女人的胳膊坐在这个小小的蓝色的桌子的胳膊',\n",
       " '一个好看的桌子的眼睛看着一个小小的好看的桌子的胳膊',\n",
       " '一个小小的好看的蓝色的篮球的尾巴看见一个篮球的尾巴',\n",
       " '一个小小的蓝色的篮球的裙子看着一个好看的小猫的尾巴',\n",
       " '一个小小的小猫的胳膊看见这个好看的好看的桌子的裙子',\n",
       " '一个好看的小小的好看的女人的裙子看着这个小小的女人的尾巴',\n",
       " '一个好看的蓝色的蓝色的女人的尾巴看着一个篮球的眼睛',\n",
       " '一个好看的小小的蓝色的桌子的眼睛看着一个桌子的胳膊',\n",
       " '这个桌子的眼睛看着一个好看的小小的好看的桌子的裙子',\n",
       " '一个好看的女人的尾巴坐在一个小小的好看的小小的小小的女人的裙子',\n",
       " '一个蓝色的篮球的尾巴坐在一个蓝色的蓝色的桌子的胳膊',\n",
       " '这个好看的蓝色的女人的尾巴看见这个蓝色的小小的桌子的胳膊',\n",
       " '一个篮球的尾巴坐在这个小小的好看的好看的小小的桌子的裙子',\n",
       " '这个好看的小小的篮球的眼睛看着这个蓝色的好看的小猫的眼睛',\n",
       " '这个好看的小小的蓝色的好看的桌子的眼睛坐在这个女人的裙子',\n",
       " '一个好看的蓝色的好看的蓝色的女人的胳膊坐在一个小猫的尾巴',\n",
       " '这个桌子的胳膊看着这个好看的蓝色的蓝色的好看的桌子的裙子',\n",
       " '这个小小的好看的好看的小猫的尾巴看见一个好看的小小的篮球的尾巴',\n",
       " '一个蓝色的好看的好看的好看的小猫的胳膊看见这个小猫的眼睛',\n",
       " '这个蓝色的好看的蓝色的好看的小猫的尾巴看着一个桌子的裙子',\n",
       " '这个蓝色的蓝色的好看的桌子的眼睛听着这个蓝色的桌子的裙子',\n",
       " '一个蓝色的小小的好看的好看的蓝色的篮球的胳膊看着这个蓝色的女人的胳膊',\n",
       " '一个蓝色的篮球的眼睛听着一个好看的小小的好看的蓝色的小小的蓝色的桌子的尾巴',\n",
       " '这个好看的蓝色的小小的好看的好看的小小的好看的小小的小猫的眼睛看见一个好看的小小的篮球的裙子']"
      ]
     },
     "execution_count": 273,
     "metadata": {},
     "output_type": "execute_result"
    }
   ],
   "source": [
    "sorted(random_generated, key=langauge_model_of_2_gram, reverse=True)"
   ]
  }
 ],
 "metadata": {
  "kernelspec": {
   "display_name": "Python 3",
   "language": "python",
   "name": "python3"
  },
  "language_info": {
   "codemirror_mode": {
    "name": "ipython",
    "version": 3
   },
   "file_extension": ".py",
   "mimetype": "text/x-python",
   "name": "python",
   "nbconvert_exporter": "python",
   "pygments_lexer": "ipython3",
   "version": "3.7.0"
  },
  "latex_envs": {
   "LaTeX_envs_menu_present": true,
   "autoclose": false,
   "autocomplete": true,
   "bibliofile": "biblio.bib",
   "cite_by": "apalike",
   "current_citInitial": 1,
   "eqLabelWithNumbers": true,
   "eqNumInitial": 1,
   "hotkeys": {
    "equation": "Ctrl-E",
    "itemize": "Ctrl-I"
   },
   "labels_anchors": false,
   "latex_user_defs": false,
   "report_style_numbering": false,
   "user_envs_cfg": false
  }
 },
 "nbformat": 4,
 "nbformat_minor": 2
}
